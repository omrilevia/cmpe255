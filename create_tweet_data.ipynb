{
 "cells": [
  {
   "cell_type": "code",
   "execution_count": 1,
   "metadata": {},
   "outputs": [],
   "source": [
    "import pandas as pd\n",
    "import numpy as np\n",
    "import scipy.sparse as sp\n",
    "from collections import Counter, defaultdict\n",
    "from scipy.sparse import csr_matrix\n",
    "from sklearn.model_selection import train_test_split\n",
    "from sklearn.metrics import accuracy_score, f1_score, precision_score, recall_score, classification_report, confusion_matrix"
   ]
  },
  {
   "cell_type": "code",
   "execution_count": 25,
   "metadata": {},
   "outputs": [],
   "source": [
    "troll_1 = pd.read_csv('data/IRAhandle_tweets_1.csv')\n",
    "troll_2 = pd.read_csv('data/IRAhandle_tweets_2.csv')\n",
    "troll_3 = pd.read_csv('data/IRAhandle_tweets_3.csv')\n",
    "troll_4 = pd.read_csv('data/IRAhandle_tweets_4.csv')\n",
    "troll_5 = pd.read_csv('data/IRAhandle_tweets_5.csv')\n",
    "troll_6 = pd.read_csv('data/IRAhandle_tweets_6.csv')\n",
    "troll_7 = pd.read_csv('data/IRAhandle_tweets_7.csv')\n",
    "troll_8 = pd.read_csv('data/IRAhandle_tweets_8.csv')\n",
    "troll_9 = pd.read_csv('data/IRAhandle_tweets_9.csv')\n",
    "\n",
    "frames = [troll_1, troll_2, troll_3, troll_4, troll_5, troll_6, troll_7, troll_8, troll_8]\n",
    "\n",
    "troll_df = pd.concat(frames)"
   ]
  },
  {
   "cell_type": "code",
   "execution_count": 29,
   "metadata": {},
   "outputs": [
    {
     "data": {
      "text/plain": [
       "(1588998, 15)"
      ]
     },
     "execution_count": 29,
     "metadata": {},
     "output_type": "execute_result"
    }
   ],
   "source": [
    "troll_df.dropna(how='all')\n",
    "troll_df.drop(troll_df[troll_df['language'] != 'English'].index, inplace = True)\n",
    "troll_df = troll_df.sample(frac=0.66, replace=False, random_state=1)\n",
    "troll_df.shape"
   ]
  },
  {
   "cell_type": "code",
   "execution_count": 30,
   "metadata": {},
   "outputs": [
    {
     "data": {
      "text/html": [
       "<div>\n",
       "<style scoped>\n",
       "    .dataframe tbody tr th:only-of-type {\n",
       "        vertical-align: middle;\n",
       "    }\n",
       "\n",
       "    .dataframe tbody tr th {\n",
       "        vertical-align: top;\n",
       "    }\n",
       "\n",
       "    .dataframe thead th {\n",
       "        text-align: right;\n",
       "    }\n",
       "</style>\n",
       "<table border=\"1\" class=\"dataframe\">\n",
       "  <thead>\n",
       "    <tr style=\"text-align: right;\">\n",
       "      <th></th>\n",
       "      <th>external_author_id</th>\n",
       "      <th>author</th>\n",
       "      <th>content</th>\n",
       "      <th>region</th>\n",
       "      <th>language</th>\n",
       "      <th>publish_date</th>\n",
       "      <th>harvested_date</th>\n",
       "      <th>following</th>\n",
       "      <th>followers</th>\n",
       "      <th>updates</th>\n",
       "      <th>post_type</th>\n",
       "      <th>account_type</th>\n",
       "      <th>new_june_2018</th>\n",
       "      <th>retweet</th>\n",
       "      <th>account_category</th>\n",
       "    </tr>\n",
       "  </thead>\n",
       "  <tbody>\n",
       "    <tr>\n",
       "      <th>64460</th>\n",
       "      <td>1.690491e+09</td>\n",
       "      <td>RAYEWHALEN</td>\n",
       "      <td>After 6 seasons but no movie (yet), is this th...</td>\n",
       "      <td>United States</td>\n",
       "      <td>English</td>\n",
       "      <td>6/1/2015 20:35</td>\n",
       "      <td>6/1/2015 20:35</td>\n",
       "      <td>112</td>\n",
       "      <td>147</td>\n",
       "      <td>616</td>\n",
       "      <td>RETWEET</td>\n",
       "      <td>Right</td>\n",
       "      <td>0</td>\n",
       "      <td>1</td>\n",
       "      <td>RightTroll</td>\n",
       "    </tr>\n",
       "    <tr>\n",
       "      <th>344647</th>\n",
       "      <td>3.241517e+09</td>\n",
       "      <td>FREEDISCUSS</td>\n",
       "      <td>IF CHARACTER HAS ANYTHING TO DO WITH PRESIDENT...</td>\n",
       "      <td>United States</td>\n",
       "      <td>English</td>\n",
       "      <td>6/14/2015 13:59</td>\n",
       "      <td>6/14/2015 13:59</td>\n",
       "      <td>3</td>\n",
       "      <td>18</td>\n",
       "      <td>1227</td>\n",
       "      <td>NaN</td>\n",
       "      <td>Right</td>\n",
       "      <td>0</td>\n",
       "      <td>0</td>\n",
       "      <td>RightTroll</td>\n",
       "    </tr>\n",
       "    <tr>\n",
       "      <th>188921</th>\n",
       "      <td>2.601236e+09</td>\n",
       "      <td>TODAYPITTSBURGH</td>\n",
       "      <td>State Police Investigating Attempted Luring in...</td>\n",
       "      <td>United States</td>\n",
       "      <td>English</td>\n",
       "      <td>9/23/2015 8:09</td>\n",
       "      <td>9/23/2015 8:09</td>\n",
       "      <td>3274</td>\n",
       "      <td>13160</td>\n",
       "      <td>15860</td>\n",
       "      <td>NaN</td>\n",
       "      <td>local</td>\n",
       "      <td>0</td>\n",
       "      <td>0</td>\n",
       "      <td>NewsFeed</td>\n",
       "    </tr>\n",
       "    <tr>\n",
       "      <th>190369</th>\n",
       "      <td>1.676481e+09</td>\n",
       "      <td>EMILEEWAREN</td>\n",
       "      <td>#BLMKidnapping #BrittanyHerring Just so you kn...</td>\n",
       "      <td>United States</td>\n",
       "      <td>English</td>\n",
       "      <td>1/5/2017 2:41</td>\n",
       "      <td>1/5/2017 2:41</td>\n",
       "      <td>1872</td>\n",
       "      <td>2094</td>\n",
       "      <td>3782</td>\n",
       "      <td>RETWEET</td>\n",
       "      <td>Right</td>\n",
       "      <td>0</td>\n",
       "      <td>1</td>\n",
       "      <td>RightTroll</td>\n",
       "    </tr>\n",
       "    <tr>\n",
       "      <th>52072</th>\n",
       "      <td>4.224730e+09</td>\n",
       "      <td>TEN_GOP</td>\n",
       "      <td>Danny Trejo: You can be proud of your Mexican ...</td>\n",
       "      <td>United States</td>\n",
       "      <td>English</td>\n",
       "      <td>9/15/2016 17:53</td>\n",
       "      <td>9/15/2016 17:53</td>\n",
       "      <td>25454</td>\n",
       "      <td>30353</td>\n",
       "      <td>3817</td>\n",
       "      <td>NaN</td>\n",
       "      <td>Right</td>\n",
       "      <td>0</td>\n",
       "      <td>0</td>\n",
       "      <td>RightTroll</td>\n",
       "    </tr>\n",
       "  </tbody>\n",
       "</table>\n",
       "</div>"
      ],
      "text/plain": [
       "        external_author_id           author  \\\n",
       "64460         1.690491e+09       RAYEWHALEN   \n",
       "344647        3.241517e+09      FREEDISCUSS   \n",
       "188921        2.601236e+09  TODAYPITTSBURGH   \n",
       "190369        1.676481e+09      EMILEEWAREN   \n",
       "52072         4.224730e+09          TEN_GOP   \n",
       "\n",
       "                                                  content         region  \\\n",
       "64460   After 6 seasons but no movie (yet), is this th...  United States   \n",
       "344647  IF CHARACTER HAS ANYTHING TO DO WITH PRESIDENT...  United States   \n",
       "188921  State Police Investigating Attempted Luring in...  United States   \n",
       "190369  #BLMKidnapping #BrittanyHerring Just so you kn...  United States   \n",
       "52072   Danny Trejo: You can be proud of your Mexican ...  United States   \n",
       "\n",
       "       language     publish_date   harvested_date  following  followers  \\\n",
       "64460   English   6/1/2015 20:35   6/1/2015 20:35        112        147   \n",
       "344647  English  6/14/2015 13:59  6/14/2015 13:59          3         18   \n",
       "188921  English   9/23/2015 8:09   9/23/2015 8:09       3274      13160   \n",
       "190369  English    1/5/2017 2:41    1/5/2017 2:41       1872       2094   \n",
       "52072   English  9/15/2016 17:53  9/15/2016 17:53      25454      30353   \n",
       "\n",
       "        updates post_type account_type  new_june_2018  retweet  \\\n",
       "64460       616   RETWEET        Right              0        1   \n",
       "344647     1227       NaN        Right              0        0   \n",
       "188921    15860       NaN        local              0        0   \n",
       "190369     3782   RETWEET        Right              0        1   \n",
       "52072      3817       NaN        Right              0        0   \n",
       "\n",
       "       account_category  \n",
       "64460        RightTroll  \n",
       "344647       RightTroll  \n",
       "188921         NewsFeed  \n",
       "190369       RightTroll  \n",
       "52072        RightTroll  "
      ]
     },
     "execution_count": 30,
     "metadata": {},
     "output_type": "execute_result"
    }
   ],
   "source": [
    "troll_df.head()"
   ]
  },
  {
   "cell_type": "code",
   "execution_count": 32,
   "metadata": {},
   "outputs": [
    {
     "data": {
      "text/html": [
       "<div>\n",
       "<style scoped>\n",
       "    .dataframe tbody tr th:only-of-type {\n",
       "        vertical-align: middle;\n",
       "    }\n",
       "\n",
       "    .dataframe tbody tr th {\n",
       "        vertical-align: top;\n",
       "    }\n",
       "\n",
       "    .dataframe thead th {\n",
       "        text-align: right;\n",
       "    }\n",
       "</style>\n",
       "<table border=\"1\" class=\"dataframe\">\n",
       "  <thead>\n",
       "    <tr style=\"text-align: right;\">\n",
       "      <th></th>\n",
       "      <th>content</th>\n",
       "    </tr>\n",
       "  </thead>\n",
       "  <tbody>\n",
       "    <tr>\n",
       "      <th>64460</th>\n",
       "      <td>After 6 seasons but no movie (yet), is this th...</td>\n",
       "    </tr>\n",
       "    <tr>\n",
       "      <th>344647</th>\n",
       "      <td>IF CHARACTER HAS ANYTHING TO DO WITH PRESIDENT...</td>\n",
       "    </tr>\n",
       "    <tr>\n",
       "      <th>188921</th>\n",
       "      <td>State Police Investigating Attempted Luring in...</td>\n",
       "    </tr>\n",
       "    <tr>\n",
       "      <th>190369</th>\n",
       "      <td>#BLMKidnapping #BrittanyHerring Just so you kn...</td>\n",
       "    </tr>\n",
       "    <tr>\n",
       "      <th>52072</th>\n",
       "      <td>Danny Trejo: You can be proud of your Mexican ...</td>\n",
       "    </tr>\n",
       "  </tbody>\n",
       "</table>\n",
       "</div>"
      ],
      "text/plain": [
       "                                                  content\n",
       "64460   After 6 seasons but no movie (yet), is this th...\n",
       "344647  IF CHARACTER HAS ANYTHING TO DO WITH PRESIDENT...\n",
       "188921  State Police Investigating Attempted Luring in...\n",
       "190369  #BLMKidnapping #BrittanyHerring Just so you kn...\n",
       "52072   Danny Trejo: You can be proud of your Mexican ..."
      ]
     },
     "execution_count": 32,
     "metadata": {},
     "output_type": "execute_result"
    }
   ],
   "source": [
    "labels_to_drop = ['external_author_id', 'author', 'region', 'language', 'publish_date', 'harvested_date', 'following', 'followers', 'updates', 'post_type', 'account_type', 'new_june_2018', 'retweet', 'account_category']\n",
    "troll_df = troll_df.drop(labels_to_drop, axis=1)\n"
   ]
  },
  {
   "cell_type": "code",
   "execution_count": 33,
   "metadata": {},
   "outputs": [],
   "source": [
    "troll_df['class'] = 1"
   ]
  },
  {
   "cell_type": "code",
   "execution_count": 35,
   "metadata": {},
   "outputs": [
    {
     "data": {
      "text/html": [
       "<div>\n",
       "<style scoped>\n",
       "    .dataframe tbody tr th:only-of-type {\n",
       "        vertical-align: middle;\n",
       "    }\n",
       "\n",
       "    .dataframe tbody tr th {\n",
       "        vertical-align: top;\n",
       "    }\n",
       "\n",
       "    .dataframe thead th {\n",
       "        text-align: right;\n",
       "    }\n",
       "</style>\n",
       "<table border=\"1\" class=\"dataframe\">\n",
       "  <thead>\n",
       "    <tr style=\"text-align: right;\">\n",
       "      <th></th>\n",
       "      <th>content</th>\n",
       "      <th>class</th>\n",
       "    </tr>\n",
       "  </thead>\n",
       "  <tbody>\n",
       "    <tr>\n",
       "      <th>64460</th>\n",
       "      <td>After 6 seasons but no movie (yet), is this th...</td>\n",
       "      <td>1</td>\n",
       "    </tr>\n",
       "    <tr>\n",
       "      <th>344647</th>\n",
       "      <td>IF CHARACTER HAS ANYTHING TO DO WITH PRESIDENT...</td>\n",
       "      <td>1</td>\n",
       "    </tr>\n",
       "    <tr>\n",
       "      <th>188921</th>\n",
       "      <td>State Police Investigating Attempted Luring in...</td>\n",
       "      <td>1</td>\n",
       "    </tr>\n",
       "    <tr>\n",
       "      <th>190369</th>\n",
       "      <td>#BLMKidnapping #BrittanyHerring Just so you kn...</td>\n",
       "      <td>1</td>\n",
       "    </tr>\n",
       "    <tr>\n",
       "      <th>52072</th>\n",
       "      <td>Danny Trejo: You can be proud of your Mexican ...</td>\n",
       "      <td>1</td>\n",
       "    </tr>\n",
       "  </tbody>\n",
       "</table>\n",
       "</div>"
      ],
      "text/plain": [
       "                                                  content  class\n",
       "64460   After 6 seasons but no movie (yet), is this th...      1\n",
       "344647  IF CHARACTER HAS ANYTHING TO DO WITH PRESIDENT...      1\n",
       "188921  State Police Investigating Attempted Luring in...      1\n",
       "190369  #BLMKidnapping #BrittanyHerring Just so you kn...      1\n",
       "52072   Danny Trejo: You can be proud of your Mexican ...      1"
      ]
     },
     "execution_count": 35,
     "metadata": {},
     "output_type": "execute_result"
    }
   ],
   "source": [
    "troll_df.head()"
   ]
  },
  {
   "cell_type": "code",
   "execution_count": 45,
   "metadata": {},
   "outputs": [],
   "source": [
    "real_tweet_df = pd.read_csv('data/training.1600000.processed.noemoticon.csv', header=None, usecols=[5], encoding='ISO-8859-1')"
   ]
  },
  {
   "cell_type": "code",
   "execution_count": 51,
   "metadata": {},
   "outputs": [
    {
     "data": {
      "text/html": [
       "<div>\n",
       "<style scoped>\n",
       "    .dataframe tbody tr th:only-of-type {\n",
       "        vertical-align: middle;\n",
       "    }\n",
       "\n",
       "    .dataframe tbody tr th {\n",
       "        vertical-align: top;\n",
       "    }\n",
       "\n",
       "    .dataframe thead th {\n",
       "        text-align: right;\n",
       "    }\n",
       "</style>\n",
       "<table border=\"1\" class=\"dataframe\">\n",
       "  <thead>\n",
       "    <tr style=\"text-align: right;\">\n",
       "      <th></th>\n",
       "      <th>content</th>\n",
       "    </tr>\n",
       "  </thead>\n",
       "  <tbody>\n",
       "    <tr>\n",
       "      <th>0</th>\n",
       "      <td>@switchfoot http://twitpic.com/2y1zl - Awww, t...</td>\n",
       "    </tr>\n",
       "    <tr>\n",
       "      <th>1</th>\n",
       "      <td>is upset that he can't update his Facebook by ...</td>\n",
       "    </tr>\n",
       "    <tr>\n",
       "      <th>2</th>\n",
       "      <td>@Kenichan I dived many times for the ball. Man...</td>\n",
       "    </tr>\n",
       "    <tr>\n",
       "      <th>3</th>\n",
       "      <td>my whole body feels itchy and like its on fire</td>\n",
       "    </tr>\n",
       "    <tr>\n",
       "      <th>4</th>\n",
       "      <td>@nationwideclass no, it's not behaving at all....</td>\n",
       "    </tr>\n",
       "  </tbody>\n",
       "</table>\n",
       "</div>"
      ],
      "text/plain": [
       "                                             content\n",
       "0  @switchfoot http://twitpic.com/2y1zl - Awww, t...\n",
       "1  is upset that he can't update his Facebook by ...\n",
       "2  @Kenichan I dived many times for the ball. Man...\n",
       "3    my whole body feels itchy and like its on fire \n",
       "4  @nationwideclass no, it's not behaving at all...."
      ]
     },
     "execution_count": 51,
     "metadata": {},
     "output_type": "execute_result"
    }
   ],
   "source": [
    "real_tweet_df=real_tweet_df.rename(columns={5: \"content\"})\n",
    "real_tweet_df.head()"
   ]
  },
  {
   "cell_type": "code",
   "execution_count": 52,
   "metadata": {},
   "outputs": [],
   "source": [
    "real_tweet_df['class'] = 0"
   ]
  },
  {
   "cell_type": "code",
   "execution_count": 53,
   "metadata": {},
   "outputs": [
    {
     "data": {
      "text/html": [
       "<div>\n",
       "<style scoped>\n",
       "    .dataframe tbody tr th:only-of-type {\n",
       "        vertical-align: middle;\n",
       "    }\n",
       "\n",
       "    .dataframe tbody tr th {\n",
       "        vertical-align: top;\n",
       "    }\n",
       "\n",
       "    .dataframe thead th {\n",
       "        text-align: right;\n",
       "    }\n",
       "</style>\n",
       "<table border=\"1\" class=\"dataframe\">\n",
       "  <thead>\n",
       "    <tr style=\"text-align: right;\">\n",
       "      <th></th>\n",
       "      <th>content</th>\n",
       "      <th>class</th>\n",
       "    </tr>\n",
       "  </thead>\n",
       "  <tbody>\n",
       "    <tr>\n",
       "      <th>0</th>\n",
       "      <td>@switchfoot http://twitpic.com/2y1zl - Awww, t...</td>\n",
       "      <td>0</td>\n",
       "    </tr>\n",
       "    <tr>\n",
       "      <th>1</th>\n",
       "      <td>is upset that he can't update his Facebook by ...</td>\n",
       "      <td>0</td>\n",
       "    </tr>\n",
       "    <tr>\n",
       "      <th>2</th>\n",
       "      <td>@Kenichan I dived many times for the ball. Man...</td>\n",
       "      <td>0</td>\n",
       "    </tr>\n",
       "    <tr>\n",
       "      <th>3</th>\n",
       "      <td>my whole body feels itchy and like its on fire</td>\n",
       "      <td>0</td>\n",
       "    </tr>\n",
       "    <tr>\n",
       "      <th>4</th>\n",
       "      <td>@nationwideclass no, it's not behaving at all....</td>\n",
       "      <td>0</td>\n",
       "    </tr>\n",
       "  </tbody>\n",
       "</table>\n",
       "</div>"
      ],
      "text/plain": [
       "                                             content  class\n",
       "0  @switchfoot http://twitpic.com/2y1zl - Awww, t...      0\n",
       "1  is upset that he can't update his Facebook by ...      0\n",
       "2  @Kenichan I dived many times for the ball. Man...      0\n",
       "3    my whole body feels itchy and like its on fire       0\n",
       "4  @nationwideclass no, it's not behaving at all....      0"
      ]
     },
     "execution_count": 53,
     "metadata": {},
     "output_type": "execute_result"
    }
   ],
   "source": [
    "real_tweet_df.head()"
   ]
  },
  {
   "cell_type": "code",
   "execution_count": 54,
   "metadata": {},
   "outputs": [
    {
     "data": {
      "text/html": [
       "<div>\n",
       "<style scoped>\n",
       "    .dataframe tbody tr th:only-of-type {\n",
       "        vertical-align: middle;\n",
       "    }\n",
       "\n",
       "    .dataframe tbody tr th {\n",
       "        vertical-align: top;\n",
       "    }\n",
       "\n",
       "    .dataframe thead th {\n",
       "        text-align: right;\n",
       "    }\n",
       "</style>\n",
       "<table border=\"1\" class=\"dataframe\">\n",
       "  <thead>\n",
       "    <tr style=\"text-align: right;\">\n",
       "      <th></th>\n",
       "      <th>content</th>\n",
       "      <th>class</th>\n",
       "    </tr>\n",
       "  </thead>\n",
       "  <tbody>\n",
       "    <tr>\n",
       "      <th>0</th>\n",
       "      <td>@switchfoot http://twitpic.com/2y1zl - Awww, t...</td>\n",
       "      <td>0</td>\n",
       "    </tr>\n",
       "    <tr>\n",
       "      <th>1</th>\n",
       "      <td>is upset that he can't update his Facebook by ...</td>\n",
       "      <td>0</td>\n",
       "    </tr>\n",
       "    <tr>\n",
       "      <th>2</th>\n",
       "      <td>@Kenichan I dived many times for the ball. Man...</td>\n",
       "      <td>0</td>\n",
       "    </tr>\n",
       "    <tr>\n",
       "      <th>3</th>\n",
       "      <td>my whole body feels itchy and like its on fire</td>\n",
       "      <td>0</td>\n",
       "    </tr>\n",
       "    <tr>\n",
       "      <th>4</th>\n",
       "      <td>@nationwideclass no, it's not behaving at all....</td>\n",
       "      <td>0</td>\n",
       "    </tr>\n",
       "  </tbody>\n",
       "</table>\n",
       "</div>"
      ],
      "text/plain": [
       "                                             content  class\n",
       "0  @switchfoot http://twitpic.com/2y1zl - Awww, t...      0\n",
       "1  is upset that he can't update his Facebook by ...      0\n",
       "2  @Kenichan I dived many times for the ball. Man...      0\n",
       "3    my whole body feels itchy and like its on fire       0\n",
       "4  @nationwideclass no, it's not behaving at all....      0"
      ]
     },
     "execution_count": 54,
     "metadata": {},
     "output_type": "execute_result"
    }
   ],
   "source": [
    "frames_real_fake = [real_tweet_df, troll_df]\n",
    "tweets_df = pd.concat(frames_real_fake)\n",
    "tweets_df.head()"
   ]
  },
  {
   "cell_type": "code",
   "execution_count": 55,
   "metadata": {},
   "outputs": [
    {
     "data": {
      "text/html": [
       "<div>\n",
       "<style scoped>\n",
       "    .dataframe tbody tr th:only-of-type {\n",
       "        vertical-align: middle;\n",
       "    }\n",
       "\n",
       "    .dataframe tbody tr th {\n",
       "        vertical-align: top;\n",
       "    }\n",
       "\n",
       "    .dataframe thead th {\n",
       "        text-align: right;\n",
       "    }\n",
       "</style>\n",
       "<table border=\"1\" class=\"dataframe\">\n",
       "  <thead>\n",
       "    <tr style=\"text-align: right;\">\n",
       "      <th></th>\n",
       "      <th>content</th>\n",
       "      <th>class</th>\n",
       "    </tr>\n",
       "  </thead>\n",
       "  <tbody>\n",
       "    <tr>\n",
       "      <th>242847</th>\n",
       "      <td>Atlanta Police searching for man wanted for ra...</td>\n",
       "      <td>1</td>\n",
       "    </tr>\n",
       "    <tr>\n",
       "      <th>251888</th>\n",
       "      <td>We REALLY fuckin' listen 2 your music submissi...</td>\n",
       "      <td>1</td>\n",
       "    </tr>\n",
       "    <tr>\n",
       "      <th>225033</th>\n",
       "      <td>Thank you! Love to travel with readers. You're...</td>\n",
       "      <td>1</td>\n",
       "    </tr>\n",
       "    <tr>\n",
       "      <th>47724</th>\n",
       "      <td>He never calls back, guess im annoying</td>\n",
       "      <td>1</td>\n",
       "    </tr>\n",
       "    <tr>\n",
       "      <th>321480</th>\n",
       "      <td>So your racism has been effectively proven @em...</td>\n",
       "      <td>1</td>\n",
       "    </tr>\n",
       "  </tbody>\n",
       "</table>\n",
       "</div>"
      ],
      "text/plain": [
       "                                                  content  class\n",
       "242847  Atlanta Police searching for man wanted for ra...      1\n",
       "251888  We REALLY fuckin' listen 2 your music submissi...      1\n",
       "225033  Thank you! Love to travel with readers. You're...      1\n",
       "47724              He never calls back, guess im annoying      1\n",
       "321480  So your racism has been effectively proven @em...      1"
      ]
     },
     "execution_count": 55,
     "metadata": {},
     "output_type": "execute_result"
    }
   ],
   "source": [
    "tweets_df.tail()"
   ]
  },
  {
   "cell_type": "code",
   "execution_count": 56,
   "metadata": {},
   "outputs": [
    {
     "data": {
      "text/plain": [
       "(3188998, 2)"
      ]
     },
     "execution_count": 56,
     "metadata": {},
     "output_type": "execute_result"
    }
   ],
   "source": [
    "tweets_df.shape"
   ]
  },
  {
   "cell_type": "code",
   "execution_count": 57,
   "metadata": {},
   "outputs": [],
   "source": [
    "tweets_df.to_csv('tweets.csv', index=False)"
   ]
  },
  {
   "cell_type": "code",
   "execution_count": null,
   "metadata": {},
   "outputs": [],
   "source": []
  }
 ],
 "metadata": {
  "kernelspec": {
   "display_name": "Python 3",
   "language": "python",
   "name": "python3"
  },
  "language_info": {
   "codemirror_mode": {
    "name": "ipython",
    "version": 3
   },
   "file_extension": ".py",
   "mimetype": "text/x-python",
   "name": "python",
   "nbconvert_exporter": "python",
   "pygments_lexer": "ipython3",
   "version": "3.8.3"
  }
 },
 "nbformat": 4,
 "nbformat_minor": 4
}
