{
  "nbformat": 4,
  "nbformat_minor": 0,
  "metadata": {
    "accelerator": "GPU",
    "colab": {
      "name": "tweets-cnn-author-input.ipynb",
      "provenance": [],
      "collapsed_sections": []
    },
    "kernelspec": {
      "display_name": "Python 3",
      "name": "python3"
    }
  },
  "cells": [
    {
      "cell_type": "code",
      "metadata": {
        "colab": {
          "base_uri": "https://localhost:8080/"
        },
        "id": "-wbHhdapyQ9D",
        "outputId": "fa467a6e-7276-467e-b481-51a881f839ca"
      },
      "source": [
        "from google.colab import drive\n",
        "drive.mount('/mydrive')"
      ],
      "execution_count": null,
      "outputs": [
        {
          "output_type": "stream",
          "text": [
            "Mounted at /mydrive\n"
          ],
          "name": "stdout"
        }
      ]
    },
    {
      "cell_type": "code",
      "metadata": {
        "id": "XPH6fXHXyYCZ"
      },
      "source": [
        "import numpy as np\n",
        "import pandas as pd"
      ],
      "execution_count": null,
      "outputs": []
    },
    {
      "cell_type": "code",
      "metadata": {
        "id": "znpJlb6mymHO"
      },
      "source": [
        "tweets_real = pd.read_csv('/mydrive/MyDrive/CMPE255/training.1600000.processed.noemoticon.csv', encoding='ISO-8859-1', header=0)\n",
        "troll_1 = pd.read_csv('/mydrive/MyDrive/CMPE255/IRAhandle_tweets_1.csv')\n",
        "troll_2 = pd.read_csv('/mydrive/MyDrive/CMPE255/IRAhandle_tweets_2.csv')\n",
        "troll_3 = pd.read_csv('/mydrive/MyDrive/CMPE255/IRAhandle_tweets_3.csv')\n",
        "troll_4 = pd.read_csv('/mydrive/MyDrive/CMPE255/IRAhandle_tweets_4.csv')\n",
        "troll_5 = pd.read_csv('/mydrive/MyDrive/CMPE255/IRAhandle_tweets_5.csv')\n",
        "troll_6 = pd.read_csv('/mydrive/MyDrive/CMPE255/IRAhandle_tweets_6.csv')\n",
        "troll_7 = pd.read_csv('/mydrive/MyDrive/CMPE255/IRAhandle_tweets_7.csv')\n",
        "troll_8 = pd.read_csv('/mydrive/MyDrive/CMPE255/IRAhandle_tweets_8.csv')\n",
        "troll_9 = pd.read_csv('/mydrive/MyDrive/CMPE255/IRAhandle_tweets_1.csv')"
      ],
      "execution_count": null,
      "outputs": []
    },
    {
      "cell_type": "code",
      "metadata": {
        "colab": {
          "base_uri": "https://localhost:8080/",
          "height": 204
        },
        "id": "OVAxIq0vzOWk",
        "outputId": "5972f5e7-cdba-4f99-9a2b-670299bddd2d"
      },
      "source": [
        "tweets_real = pd.read_csv('/mydrive/MyDrive/CMPE255/training.1600000.processed.noemoticon.csv', encoding='ISO-8859-1', names=['index', 'id', 'date', 'query', 'author', 'content'])\n",
        "\n",
        "tweets_real.head()"
      ],
      "execution_count": null,
      "outputs": [
        {
          "output_type": "execute_result",
          "data": {
            "text/html": [
              "<div>\n",
              "<style scoped>\n",
              "    .dataframe tbody tr th:only-of-type {\n",
              "        vertical-align: middle;\n",
              "    }\n",
              "\n",
              "    .dataframe tbody tr th {\n",
              "        vertical-align: top;\n",
              "    }\n",
              "\n",
              "    .dataframe thead th {\n",
              "        text-align: right;\n",
              "    }\n",
              "</style>\n",
              "<table border=\"1\" class=\"dataframe\">\n",
              "  <thead>\n",
              "    <tr style=\"text-align: right;\">\n",
              "      <th></th>\n",
              "      <th>index</th>\n",
              "      <th>id</th>\n",
              "      <th>date</th>\n",
              "      <th>query</th>\n",
              "      <th>author</th>\n",
              "      <th>content</th>\n",
              "    </tr>\n",
              "  </thead>\n",
              "  <tbody>\n",
              "    <tr>\n",
              "      <th>0</th>\n",
              "      <td>0</td>\n",
              "      <td>1467810369</td>\n",
              "      <td>Mon Apr 06 22:19:45 PDT 2009</td>\n",
              "      <td>NO_QUERY</td>\n",
              "      <td>_TheSpecialOne_</td>\n",
              "      <td>@switchfoot http://twitpic.com/2y1zl - Awww, t...</td>\n",
              "    </tr>\n",
              "    <tr>\n",
              "      <th>1</th>\n",
              "      <td>0</td>\n",
              "      <td>1467810672</td>\n",
              "      <td>Mon Apr 06 22:19:49 PDT 2009</td>\n",
              "      <td>NO_QUERY</td>\n",
              "      <td>scotthamilton</td>\n",
              "      <td>is upset that he can't update his Facebook by ...</td>\n",
              "    </tr>\n",
              "    <tr>\n",
              "      <th>2</th>\n",
              "      <td>0</td>\n",
              "      <td>1467810917</td>\n",
              "      <td>Mon Apr 06 22:19:53 PDT 2009</td>\n",
              "      <td>NO_QUERY</td>\n",
              "      <td>mattycus</td>\n",
              "      <td>@Kenichan I dived many times for the ball. Man...</td>\n",
              "    </tr>\n",
              "    <tr>\n",
              "      <th>3</th>\n",
              "      <td>0</td>\n",
              "      <td>1467811184</td>\n",
              "      <td>Mon Apr 06 22:19:57 PDT 2009</td>\n",
              "      <td>NO_QUERY</td>\n",
              "      <td>ElleCTF</td>\n",
              "      <td>my whole body feels itchy and like its on fire</td>\n",
              "    </tr>\n",
              "    <tr>\n",
              "      <th>4</th>\n",
              "      <td>0</td>\n",
              "      <td>1467811193</td>\n",
              "      <td>Mon Apr 06 22:19:57 PDT 2009</td>\n",
              "      <td>NO_QUERY</td>\n",
              "      <td>Karoli</td>\n",
              "      <td>@nationwideclass no, it's not behaving at all....</td>\n",
              "    </tr>\n",
              "  </tbody>\n",
              "</table>\n",
              "</div>"
            ],
            "text/plain": [
              "   index  ...                                            content\n",
              "0      0  ...  @switchfoot http://twitpic.com/2y1zl - Awww, t...\n",
              "1      0  ...  is upset that he can't update his Facebook by ...\n",
              "2      0  ...  @Kenichan I dived many times for the ball. Man...\n",
              "3      0  ...    my whole body feels itchy and like its on fire \n",
              "4      0  ...  @nationwideclass no, it's not behaving at all....\n",
              "\n",
              "[5 rows x 6 columns]"
            ]
          },
          "metadata": {
            "tags": []
          },
          "execution_count": 4
        }
      ]
    },
    {
      "cell_type": "code",
      "metadata": {
        "colab": {
          "base_uri": "https://localhost:8080/",
          "height": 204
        },
        "id": "GB8PpsZx6Zio",
        "outputId": "ed96b7b6-f489-4792-a8d8-40856db8511f"
      },
      "source": [
        "troll_frames = [troll_1, troll_2, troll_3, troll_4, troll_5, troll_6, troll_7, troll_8, troll_9]\n",
        "troll_tweets = pd.concat(troll_frames)\n",
        "troll_tweets.head()"
      ],
      "execution_count": null,
      "outputs": [
        {
          "output_type": "execute_result",
          "data": {
            "text/html": [
              "<div>\n",
              "<style scoped>\n",
              "    .dataframe tbody tr th:only-of-type {\n",
              "        vertical-align: middle;\n",
              "    }\n",
              "\n",
              "    .dataframe tbody tr th {\n",
              "        vertical-align: top;\n",
              "    }\n",
              "\n",
              "    .dataframe thead th {\n",
              "        text-align: right;\n",
              "    }\n",
              "</style>\n",
              "<table border=\"1\" class=\"dataframe\">\n",
              "  <thead>\n",
              "    <tr style=\"text-align: right;\">\n",
              "      <th></th>\n",
              "      <th>external_author_id</th>\n",
              "      <th>author</th>\n",
              "      <th>content</th>\n",
              "      <th>region</th>\n",
              "      <th>language</th>\n",
              "      <th>publish_date</th>\n",
              "      <th>harvested_date</th>\n",
              "      <th>following</th>\n",
              "      <th>followers</th>\n",
              "      <th>updates</th>\n",
              "      <th>post_type</th>\n",
              "      <th>account_type</th>\n",
              "      <th>new_june_2018</th>\n",
              "      <th>retweet</th>\n",
              "      <th>account_category</th>\n",
              "    </tr>\n",
              "  </thead>\n",
              "  <tbody>\n",
              "    <tr>\n",
              "      <th>0</th>\n",
              "      <td>9.060000e+17</td>\n",
              "      <td>10_GOP</td>\n",
              "      <td>\"We have a sitting Democrat US Senator on tria...</td>\n",
              "      <td>Unknown</td>\n",
              "      <td>English</td>\n",
              "      <td>10/1/2017 19:58</td>\n",
              "      <td>10/1/2017 19:59</td>\n",
              "      <td>1052</td>\n",
              "      <td>9636</td>\n",
              "      <td>253</td>\n",
              "      <td>NaN</td>\n",
              "      <td>Right</td>\n",
              "      <td>0</td>\n",
              "      <td>0</td>\n",
              "      <td>RightTroll</td>\n",
              "    </tr>\n",
              "    <tr>\n",
              "      <th>1</th>\n",
              "      <td>9.060000e+17</td>\n",
              "      <td>10_GOP</td>\n",
              "      <td>Marshawn Lynch arrives to game in anti-Trump s...</td>\n",
              "      <td>Unknown</td>\n",
              "      <td>English</td>\n",
              "      <td>10/1/2017 22:43</td>\n",
              "      <td>10/1/2017 22:43</td>\n",
              "      <td>1054</td>\n",
              "      <td>9637</td>\n",
              "      <td>254</td>\n",
              "      <td>NaN</td>\n",
              "      <td>Right</td>\n",
              "      <td>0</td>\n",
              "      <td>0</td>\n",
              "      <td>RightTroll</td>\n",
              "    </tr>\n",
              "    <tr>\n",
              "      <th>2</th>\n",
              "      <td>9.060000e+17</td>\n",
              "      <td>10_GOP</td>\n",
              "      <td>Daughter of fallen Navy Sailor delivers powerf...</td>\n",
              "      <td>Unknown</td>\n",
              "      <td>English</td>\n",
              "      <td>10/1/2017 22:50</td>\n",
              "      <td>10/1/2017 22:51</td>\n",
              "      <td>1054</td>\n",
              "      <td>9637</td>\n",
              "      <td>255</td>\n",
              "      <td>RETWEET</td>\n",
              "      <td>Right</td>\n",
              "      <td>0</td>\n",
              "      <td>1</td>\n",
              "      <td>RightTroll</td>\n",
              "    </tr>\n",
              "    <tr>\n",
              "      <th>3</th>\n",
              "      <td>9.060000e+17</td>\n",
              "      <td>10_GOP</td>\n",
              "      <td>JUST IN: President Trump dedicates Presidents ...</td>\n",
              "      <td>Unknown</td>\n",
              "      <td>English</td>\n",
              "      <td>10/1/2017 23:52</td>\n",
              "      <td>10/1/2017 23:52</td>\n",
              "      <td>1062</td>\n",
              "      <td>9642</td>\n",
              "      <td>256</td>\n",
              "      <td>NaN</td>\n",
              "      <td>Right</td>\n",
              "      <td>0</td>\n",
              "      <td>0</td>\n",
              "      <td>RightTroll</td>\n",
              "    </tr>\n",
              "    <tr>\n",
              "      <th>4</th>\n",
              "      <td>9.060000e+17</td>\n",
              "      <td>10_GOP</td>\n",
              "      <td>19,000 RESPECTING our National Anthem! #StandF...</td>\n",
              "      <td>Unknown</td>\n",
              "      <td>English</td>\n",
              "      <td>10/1/2017 2:13</td>\n",
              "      <td>10/1/2017 2:13</td>\n",
              "      <td>1050</td>\n",
              "      <td>9645</td>\n",
              "      <td>246</td>\n",
              "      <td>RETWEET</td>\n",
              "      <td>Right</td>\n",
              "      <td>0</td>\n",
              "      <td>1</td>\n",
              "      <td>RightTroll</td>\n",
              "    </tr>\n",
              "  </tbody>\n",
              "</table>\n",
              "</div>"
            ],
            "text/plain": [
              "   external_author_id  author  ... retweet account_category\n",
              "0        9.060000e+17  10_GOP  ...       0       RightTroll\n",
              "1        9.060000e+17  10_GOP  ...       0       RightTroll\n",
              "2        9.060000e+17  10_GOP  ...       1       RightTroll\n",
              "3        9.060000e+17  10_GOP  ...       0       RightTroll\n",
              "4        9.060000e+17  10_GOP  ...       1       RightTroll\n",
              "\n",
              "[5 rows x 15 columns]"
            ]
          },
          "metadata": {
            "tags": []
          },
          "execution_count": 5
        }
      ]
    },
    {
      "cell_type": "code",
      "metadata": {
        "colab": {
          "base_uri": "https://localhost:8080/"
        },
        "id": "A3-ixOlH6vqE",
        "outputId": "e08fe94e-034d-4ccd-caa7-5b850a8abe24"
      },
      "source": [
        "troll_tweets = troll_tweets[troll_tweets['language'] == 'English']\n",
        "troll_tweets = troll_tweets.sample(frac=0.66, replace=False, random_state=1)\n",
        "troll_tweets.shape"
      ],
      "execution_count": null,
      "outputs": [
        {
          "output_type": "execute_result",
          "data": {
            "text/plain": [
              "(1587291, 15)"
            ]
          },
          "metadata": {
            "tags": []
          },
          "execution_count": 6
        }
      ]
    },
    {
      "cell_type": "code",
      "metadata": {
        "colab": {
          "base_uri": "https://localhost:8080/",
          "height": 204
        },
        "id": "cN4zprJI7g80",
        "outputId": "b6cbf47a-214e-4aec-9056-06cec3d3909b"
      },
      "source": [
        "troll_tweets = troll_tweets[['author', 'content']]\n",
        "troll_tweets['class'] = 1\n",
        "troll_tweets.head()"
      ],
      "execution_count": null,
      "outputs": [
        {
          "output_type": "execute_result",
          "data": {
            "text/html": [
              "<div>\n",
              "<style scoped>\n",
              "    .dataframe tbody tr th:only-of-type {\n",
              "        vertical-align: middle;\n",
              "    }\n",
              "\n",
              "    .dataframe tbody tr th {\n",
              "        vertical-align: top;\n",
              "    }\n",
              "\n",
              "    .dataframe thead th {\n",
              "        text-align: right;\n",
              "    }\n",
              "</style>\n",
              "<table border=\"1\" class=\"dataframe\">\n",
              "  <thead>\n",
              "    <tr style=\"text-align: right;\">\n",
              "      <th></th>\n",
              "      <th>author</th>\n",
              "      <th>content</th>\n",
              "      <th>class</th>\n",
              "    </tr>\n",
              "  </thead>\n",
              "  <tbody>\n",
              "    <tr>\n",
              "      <th>358607</th>\n",
              "      <td>WORLDOFHASHTAGS</td>\n",
              "      <td>Nobody will miss it. #2016In4Words</td>\n",
              "      <td>1</td>\n",
              "    </tr>\n",
              "    <tr>\n",
              "      <th>40918</th>\n",
              "      <td>PUREDAVIE</td>\n",
              "      <td>Yesterday's just a memory, tomorrow is never w...</td>\n",
              "      <td>1</td>\n",
              "    </tr>\n",
              "    <tr>\n",
              "      <th>91047</th>\n",
              "      <td>TODAYCINCINNATI</td>\n",
              "      <td>Rue 21 closing three local stores https://t.co...</td>\n",
              "      <td>1</td>\n",
              "    </tr>\n",
              "    <tr>\n",
              "      <th>59670</th>\n",
              "      <td>ALECMOOOOODY</td>\n",
              "      <td>Howdy man! � Send me msg ➡ https://t.co/NUdzdx...</td>\n",
              "      <td>1</td>\n",
              "    </tr>\n",
              "    <tr>\n",
              "      <th>373400</th>\n",
              "      <td>KANSASDAILYNEWS</td>\n",
              "      <td>Film company guilty in ‘Star Wars’ accident th...</td>\n",
              "      <td>1</td>\n",
              "    </tr>\n",
              "  </tbody>\n",
              "</table>\n",
              "</div>"
            ],
            "text/plain": [
              "                 author  ... class\n",
              "358607  WORLDOFHASHTAGS  ...     1\n",
              "40918         PUREDAVIE  ...     1\n",
              "91047   TODAYCINCINNATI  ...     1\n",
              "59670      ALECMOOOOODY  ...     1\n",
              "373400  KANSASDAILYNEWS  ...     1\n",
              "\n",
              "[5 rows x 3 columns]"
            ]
          },
          "metadata": {
            "tags": []
          },
          "execution_count": 7
        }
      ]
    },
    {
      "cell_type": "code",
      "metadata": {
        "colab": {
          "base_uri": "https://localhost:8080/",
          "height": 204
        },
        "id": "8jpjl5ku8igL",
        "outputId": "2279a393-3f20-41ab-f61e-16164c8a5b51"
      },
      "source": [
        "tweets_real.head()"
      ],
      "execution_count": null,
      "outputs": [
        {
          "output_type": "execute_result",
          "data": {
            "text/html": [
              "<div>\n",
              "<style scoped>\n",
              "    .dataframe tbody tr th:only-of-type {\n",
              "        vertical-align: middle;\n",
              "    }\n",
              "\n",
              "    .dataframe tbody tr th {\n",
              "        vertical-align: top;\n",
              "    }\n",
              "\n",
              "    .dataframe thead th {\n",
              "        text-align: right;\n",
              "    }\n",
              "</style>\n",
              "<table border=\"1\" class=\"dataframe\">\n",
              "  <thead>\n",
              "    <tr style=\"text-align: right;\">\n",
              "      <th></th>\n",
              "      <th>index</th>\n",
              "      <th>id</th>\n",
              "      <th>date</th>\n",
              "      <th>query</th>\n",
              "      <th>author</th>\n",
              "      <th>content</th>\n",
              "    </tr>\n",
              "  </thead>\n",
              "  <tbody>\n",
              "    <tr>\n",
              "      <th>0</th>\n",
              "      <td>0</td>\n",
              "      <td>1467810369</td>\n",
              "      <td>Mon Apr 06 22:19:45 PDT 2009</td>\n",
              "      <td>NO_QUERY</td>\n",
              "      <td>_TheSpecialOne_</td>\n",
              "      <td>@switchfoot http://twitpic.com/2y1zl - Awww, t...</td>\n",
              "    </tr>\n",
              "    <tr>\n",
              "      <th>1</th>\n",
              "      <td>0</td>\n",
              "      <td>1467810672</td>\n",
              "      <td>Mon Apr 06 22:19:49 PDT 2009</td>\n",
              "      <td>NO_QUERY</td>\n",
              "      <td>scotthamilton</td>\n",
              "      <td>is upset that he can't update his Facebook by ...</td>\n",
              "    </tr>\n",
              "    <tr>\n",
              "      <th>2</th>\n",
              "      <td>0</td>\n",
              "      <td>1467810917</td>\n",
              "      <td>Mon Apr 06 22:19:53 PDT 2009</td>\n",
              "      <td>NO_QUERY</td>\n",
              "      <td>mattycus</td>\n",
              "      <td>@Kenichan I dived many times for the ball. Man...</td>\n",
              "    </tr>\n",
              "    <tr>\n",
              "      <th>3</th>\n",
              "      <td>0</td>\n",
              "      <td>1467811184</td>\n",
              "      <td>Mon Apr 06 22:19:57 PDT 2009</td>\n",
              "      <td>NO_QUERY</td>\n",
              "      <td>ElleCTF</td>\n",
              "      <td>my whole body feels itchy and like its on fire</td>\n",
              "    </tr>\n",
              "    <tr>\n",
              "      <th>4</th>\n",
              "      <td>0</td>\n",
              "      <td>1467811193</td>\n",
              "      <td>Mon Apr 06 22:19:57 PDT 2009</td>\n",
              "      <td>NO_QUERY</td>\n",
              "      <td>Karoli</td>\n",
              "      <td>@nationwideclass no, it's not behaving at all....</td>\n",
              "    </tr>\n",
              "  </tbody>\n",
              "</table>\n",
              "</div>"
            ],
            "text/plain": [
              "   index  ...                                            content\n",
              "0      0  ...  @switchfoot http://twitpic.com/2y1zl - Awww, t...\n",
              "1      0  ...  is upset that he can't update his Facebook by ...\n",
              "2      0  ...  @Kenichan I dived many times for the ball. Man...\n",
              "3      0  ...    my whole body feels itchy and like its on fire \n",
              "4      0  ...  @nationwideclass no, it's not behaving at all....\n",
              "\n",
              "[5 rows x 6 columns]"
            ]
          },
          "metadata": {
            "tags": []
          },
          "execution_count": 8
        }
      ]
    },
    {
      "cell_type": "code",
      "metadata": {
        "colab": {
          "base_uri": "https://localhost:8080/",
          "height": 204
        },
        "id": "PHYplHHb8oA7",
        "outputId": "781b2ea7-75c5-4f55-8600-9b5c9eae7a3b"
      },
      "source": [
        "tweets_real = tweets_real[['author', 'content']]\n",
        "tweets_real['class'] = 0\n",
        "tweets_real.head()"
      ],
      "execution_count": null,
      "outputs": [
        {
          "output_type": "execute_result",
          "data": {
            "text/html": [
              "<div>\n",
              "<style scoped>\n",
              "    .dataframe tbody tr th:only-of-type {\n",
              "        vertical-align: middle;\n",
              "    }\n",
              "\n",
              "    .dataframe tbody tr th {\n",
              "        vertical-align: top;\n",
              "    }\n",
              "\n",
              "    .dataframe thead th {\n",
              "        text-align: right;\n",
              "    }\n",
              "</style>\n",
              "<table border=\"1\" class=\"dataframe\">\n",
              "  <thead>\n",
              "    <tr style=\"text-align: right;\">\n",
              "      <th></th>\n",
              "      <th>author</th>\n",
              "      <th>content</th>\n",
              "      <th>class</th>\n",
              "    </tr>\n",
              "  </thead>\n",
              "  <tbody>\n",
              "    <tr>\n",
              "      <th>0</th>\n",
              "      <td>_TheSpecialOne_</td>\n",
              "      <td>@switchfoot http://twitpic.com/2y1zl - Awww, t...</td>\n",
              "      <td>0</td>\n",
              "    </tr>\n",
              "    <tr>\n",
              "      <th>1</th>\n",
              "      <td>scotthamilton</td>\n",
              "      <td>is upset that he can't update his Facebook by ...</td>\n",
              "      <td>0</td>\n",
              "    </tr>\n",
              "    <tr>\n",
              "      <th>2</th>\n",
              "      <td>mattycus</td>\n",
              "      <td>@Kenichan I dived many times for the ball. Man...</td>\n",
              "      <td>0</td>\n",
              "    </tr>\n",
              "    <tr>\n",
              "      <th>3</th>\n",
              "      <td>ElleCTF</td>\n",
              "      <td>my whole body feels itchy and like its on fire</td>\n",
              "      <td>0</td>\n",
              "    </tr>\n",
              "    <tr>\n",
              "      <th>4</th>\n",
              "      <td>Karoli</td>\n",
              "      <td>@nationwideclass no, it's not behaving at all....</td>\n",
              "      <td>0</td>\n",
              "    </tr>\n",
              "  </tbody>\n",
              "</table>\n",
              "</div>"
            ],
            "text/plain": [
              "            author                                            content  class\n",
              "0  _TheSpecialOne_  @switchfoot http://twitpic.com/2y1zl - Awww, t...      0\n",
              "1    scotthamilton  is upset that he can't update his Facebook by ...      0\n",
              "2         mattycus  @Kenichan I dived many times for the ball. Man...      0\n",
              "3          ElleCTF    my whole body feels itchy and like its on fire       0\n",
              "4           Karoli  @nationwideclass no, it's not behaving at all....      0"
            ]
          },
          "metadata": {
            "tags": []
          },
          "execution_count": 9
        }
      ]
    },
    {
      "cell_type": "code",
      "metadata": {
        "colab": {
          "base_uri": "https://localhost:8080/",
          "height": 204
        },
        "id": "4y22zXb286GR",
        "outputId": "2fd5d5bb-6692-41c2-dfc5-2ab9b9434297"
      },
      "source": [
        "frames = [tweets_real, troll_tweets]\n",
        "tweets_w_auth = pd.concat(frames)\n",
        "tweets_w_auth.head()"
      ],
      "execution_count": null,
      "outputs": [
        {
          "output_type": "execute_result",
          "data": {
            "text/html": [
              "<div>\n",
              "<style scoped>\n",
              "    .dataframe tbody tr th:only-of-type {\n",
              "        vertical-align: middle;\n",
              "    }\n",
              "\n",
              "    .dataframe tbody tr th {\n",
              "        vertical-align: top;\n",
              "    }\n",
              "\n",
              "    .dataframe thead th {\n",
              "        text-align: right;\n",
              "    }\n",
              "</style>\n",
              "<table border=\"1\" class=\"dataframe\">\n",
              "  <thead>\n",
              "    <tr style=\"text-align: right;\">\n",
              "      <th></th>\n",
              "      <th>author</th>\n",
              "      <th>content</th>\n",
              "      <th>class</th>\n",
              "    </tr>\n",
              "  </thead>\n",
              "  <tbody>\n",
              "    <tr>\n",
              "      <th>0</th>\n",
              "      <td>_TheSpecialOne_</td>\n",
              "      <td>@switchfoot http://twitpic.com/2y1zl - Awww, t...</td>\n",
              "      <td>0</td>\n",
              "    </tr>\n",
              "    <tr>\n",
              "      <th>1</th>\n",
              "      <td>scotthamilton</td>\n",
              "      <td>is upset that he can't update his Facebook by ...</td>\n",
              "      <td>0</td>\n",
              "    </tr>\n",
              "    <tr>\n",
              "      <th>2</th>\n",
              "      <td>mattycus</td>\n",
              "      <td>@Kenichan I dived many times for the ball. Man...</td>\n",
              "      <td>0</td>\n",
              "    </tr>\n",
              "    <tr>\n",
              "      <th>3</th>\n",
              "      <td>ElleCTF</td>\n",
              "      <td>my whole body feels itchy and like its on fire</td>\n",
              "      <td>0</td>\n",
              "    </tr>\n",
              "    <tr>\n",
              "      <th>4</th>\n",
              "      <td>Karoli</td>\n",
              "      <td>@nationwideclass no, it's not behaving at all....</td>\n",
              "      <td>0</td>\n",
              "    </tr>\n",
              "  </tbody>\n",
              "</table>\n",
              "</div>"
            ],
            "text/plain": [
              "            author                                            content  class\n",
              "0  _TheSpecialOne_  @switchfoot http://twitpic.com/2y1zl - Awww, t...      0\n",
              "1    scotthamilton  is upset that he can't update his Facebook by ...      0\n",
              "2         mattycus  @Kenichan I dived many times for the ball. Man...      0\n",
              "3          ElleCTF    my whole body feels itchy and like its on fire       0\n",
              "4           Karoli  @nationwideclass no, it's not behaving at all....      0"
            ]
          },
          "metadata": {
            "tags": []
          },
          "execution_count": 10
        }
      ]
    },
    {
      "cell_type": "code",
      "metadata": {
        "colab": {
          "base_uri": "https://localhost:8080/",
          "height": 204
        },
        "id": "4r3JFFHuC3ie",
        "outputId": "658ac4a8-557c-42b2-b5b5-2eef040e1d6a"
      },
      "source": [
        "tweets_w_auth.tail()"
      ],
      "execution_count": null,
      "outputs": [
        {
          "output_type": "execute_result",
          "data": {
            "text/html": [
              "<div>\n",
              "<style scoped>\n",
              "    .dataframe tbody tr th:only-of-type {\n",
              "        vertical-align: middle;\n",
              "    }\n",
              "\n",
              "    .dataframe tbody tr th {\n",
              "        vertical-align: top;\n",
              "    }\n",
              "\n",
              "    .dataframe thead th {\n",
              "        text-align: right;\n",
              "    }\n",
              "</style>\n",
              "<table border=\"1\" class=\"dataframe\">\n",
              "  <thead>\n",
              "    <tr style=\"text-align: right;\">\n",
              "      <th></th>\n",
              "      <th>author</th>\n",
              "      <th>content</th>\n",
              "      <th>class</th>\n",
              "    </tr>\n",
              "  </thead>\n",
              "  <tbody>\n",
              "    <tr>\n",
              "      <th>55140</th>\n",
              "      <td>BRISSTOFLR</td>\n",
              "      <td>Are You Sitting Down? You WON’T BELIEVE This W...</td>\n",
              "      <td>1</td>\n",
              "    </tr>\n",
              "    <tr>\n",
              "      <th>217055</th>\n",
              "      <td>JADONHUTCHINSON</td>\n",
              "      <td>January 2016 TV Pilot/Spec Screenplay Winners ...</td>\n",
              "      <td>1</td>\n",
              "    </tr>\n",
              "    <tr>\n",
              "      <th>52761</th>\n",
              "      <td>ALBUQUERQUEON</td>\n",
              "      <td>New Mexico governor outlines state budget prop...</td>\n",
              "      <td>1</td>\n",
              "    </tr>\n",
              "    <tr>\n",
              "      <th>241265</th>\n",
              "      <td>MIL0BLAKE</td>\n",
              "      <td>News post: \"THE PAST IS ANOTHER COUNTRY, BUT W...</td>\n",
              "      <td>1</td>\n",
              "    </tr>\n",
              "    <tr>\n",
              "      <th>147332</th>\n",
              "      <td>ANDYDREWDANIELS</td>\n",
              "      <td>#GiftIdeasForPoliticians Pokemon Go https://t....</td>\n",
              "      <td>1</td>\n",
              "    </tr>\n",
              "  </tbody>\n",
              "</table>\n",
              "</div>"
            ],
            "text/plain": [
              "                 author  ... class\n",
              "55140        BRISSTOFLR  ...     1\n",
              "217055  JADONHUTCHINSON  ...     1\n",
              "52761     ALBUQUERQUEON  ...     1\n",
              "241265        MIL0BLAKE  ...     1\n",
              "147332  ANDYDREWDANIELS  ...     1\n",
              "\n",
              "[5 rows x 3 columns]"
            ]
          },
          "metadata": {
            "tags": []
          },
          "execution_count": 11
        }
      ]
    },
    {
      "cell_type": "code",
      "metadata": {
        "colab": {
          "base_uri": "https://localhost:8080/"
        },
        "id": "SsK81x15Ah9q",
        "outputId": "2db3d68e-f648-456d-bf26-3a678e86cccf"
      },
      "source": [
        "import nltk\n",
        "from nltk.corpus import stopwords\n",
        "nltk.download('stopwords')\n",
        "stop = stopwords.words('english')\n",
        "tweets_w_auth['content'] = tweets_w_auth['content'].apply(\n",
        "    lambda x: ' '.join([word for word in (str(x)).split() if word not in (stop)]))"
      ],
      "execution_count": null,
      "outputs": [
        {
          "output_type": "stream",
          "text": [
            "[nltk_data] Downloading package stopwords to /root/nltk_data...\n",
            "[nltk_data]   Unzipping corpora/stopwords.zip.\n"
          ],
          "name": "stdout"
        }
      ]
    },
    {
      "cell_type": "code",
      "metadata": {
        "colab": {
          "base_uri": "https://localhost:8080/"
        },
        "id": "_nTMYXKIBeiM",
        "outputId": "5c9c0896-2282-4c1f-de38-000f02ab1ee1"
      },
      "source": [
        "tweets_w_auth.content.str.replace('[^a-zA-Z\\s]', '')"
      ],
      "execution_count": null,
      "outputs": [
        {
          "output_type": "execute_result",
          "data": {
            "text/plain": [
              "0         switchfoot httptwitpiccomyzl  Awww thats bumme...\n",
              "1         upset cant update Facebook texting it might cr...\n",
              "2         Kenichan I dived many times ball Managed save ...\n",
              "3                          whole body feels itchy like fire\n",
              "4         nationwideclass no behaving all im mad here I ...\n",
              "                                ...                        \n",
              "55140     Are You Sitting Down You WONT BELIEVE This WAP...\n",
              "217055    January  TV PilotSpec Screenplay Winners https...\n",
              "52761     New Mexico governor outlines state budget prop...\n",
              "241265    News post THE PAST IS ANOTHER COUNTRY BUT WE D...\n",
              "147332    GiftIdeasForPoliticians Pokemon Go httpstcopNa...\n",
              "Name: content, Length: 3187291, dtype: object"
            ]
          },
          "metadata": {
            "tags": []
          },
          "execution_count": 13
        }
      ]
    },
    {
      "cell_type": "code",
      "metadata": {
        "id": "LoaR-riJDgTI"
      },
      "source": [
        "import tensorflow as tf\n",
        "from sklearn.model_selection import train_test_split\n",
        "from sklearn.metrics import precision_score, recall_score, f1_score\n",
        "import matplotlib.pyplot as plt\n",
        "plt.style.use('ggplot')\n",
        "import seaborn as sns"
      ],
      "execution_count": null,
      "outputs": []
    },
    {
      "cell_type": "code",
      "metadata": {
        "id": "jdAS_xceDuIY"
      },
      "source": [
        "tokenizer = tf.keras.preprocessing.text.Tokenizer()\n",
        "tokenizer.fit_on_texts(tweets_w_auth['content'])\n",
        "tweets_w_auth['content'] = tokenizer.texts_to_sequences(tweets_w_auth['content'])"
      ],
      "execution_count": null,
      "outputs": []
    },
    {
      "cell_type": "code",
      "metadata": {
        "id": "hgckcRaJEZbk"
      },
      "source": [
        "author_tokenizer = tf.keras.preprocessing.text.Tokenizer()\n",
        "author_tokenizer.fit_on_texts(tweets_w_auth['author'])\n",
        "tweets_w_auth['author'] = author_tokenizer.texts_to_sequences(tweets_w_auth['author'])"
      ],
      "execution_count": null,
      "outputs": []
    },
    {
      "cell_type": "code",
      "metadata": {
        "colab": {
          "base_uri": "https://localhost:8080/",
          "height": 338
        },
        "id": "s2QDB5xUE79X",
        "outputId": "e228b8d2-cc04-43d9-d0af-5f27eacc6c30"
      },
      "source": [
        "X_lens = [len(x) for x in tweets_w_auth['content'].values]\n",
        "X_lens = np.array(X_lens)\n",
        "sns.distplot(X_lens)"
      ],
      "execution_count": null,
      "outputs": [
        {
          "output_type": "stream",
          "text": [
            "/usr/local/lib/python3.6/dist-packages/seaborn/distributions.py:2551: FutureWarning: `distplot` is a deprecated function and will be removed in a future version. Please adapt your code to use either `displot` (a figure-level function with similar flexibility) or `histplot` (an axes-level function for histograms).\n",
            "  warnings.warn(msg, FutureWarning)\n"
          ],
          "name": "stderr"
        },
        {
          "output_type": "execute_result",
          "data": {
            "text/plain": [
              "<matplotlib.axes._subplots.AxesSubplot at 0x7f330909fef0>"
            ]
          },
          "metadata": {
            "tags": []
          },
          "execution_count": 17
        },
        {
          "output_type": "display_data",
          "data": {
            "image/png": "[encoded data removed]",
            "text/plain": [
              "<Figure size 432x288 with 1 Axes>"
            ]
          },
          "metadata": {
            "tags": []
          }
        }
      ]
    },
    {
      "cell_type": "code",
      "metadata": {
        "colab": {
          "base_uri": "https://localhost:8080/"
        },
        "id": "LP3AUYYsFPrS",
        "outputId": "9a685cba-7a8c-4597-8a57-78c913f2c44d"
      },
      "source": [
        "print(np.mean(X_lens), np.std(X_lens))"
      ],
      "execution_count": null,
      "outputs": [
        {
          "output_type": "stream",
          "text": [
            "11.121873716582515 5.198424843095162\n"
          ],
          "name": "stdout"
        }
      ]
    },
    {
      "cell_type": "code",
      "metadata": {
        "colab": {
          "base_uri": "https://localhost:8080/"
        },
        "id": "l7eITTSaFUi1",
        "outputId": "1cd33799-f445-430d-81b8-0eb4c1244d4f"
      },
      "source": [
        "MAX_CONTENT_LENGTH = 21\n",
        "np.unique((X_lens >= MAX_CONTENT_LENGTH), return_counts=True)"
      ],
      "execution_count": null,
      "outputs": [
        {
          "output_type": "execute_result",
          "data": {
            "text/plain": [
              "(array([False,  True]), array([3099017,   88274]))"
            ]
          },
          "metadata": {
            "tags": []
          },
          "execution_count": 19
        }
      ]
    },
    {
      "cell_type": "code",
      "metadata": {
        "colab": {
          "base_uri": "https://localhost:8080/"
        },
        "id": "EmL7wlG4FjIF",
        "outputId": "a8f56f2e-0439-4e2c-e043-7889536f1d9a"
      },
      "source": [
        "3099017/(3099017+88274)"
      ],
      "execution_count": null,
      "outputs": [
        {
          "output_type": "execute_result",
          "data": {
            "text/plain": [
              "0.972304380114649"
            ]
          },
          "metadata": {
            "tags": []
          },
          "execution_count": 20
        }
      ]
    },
    {
      "cell_type": "code",
      "metadata": {
        "colab": {
          "base_uri": "https://localhost:8080/",
          "height": 336
        },
        "id": "QzCDcKkXFpx4",
        "outputId": "79290c04-1b26-4dca-ed4b-8a2aaa453296"
      },
      "source": [
        "Y_lens = [len(x) for x in tweets_w_auth['author'].values]\n",
        "Y_lens = np.array(Y_lens)\n",
        "sns.distplot(Y_lens)"
      ],
      "execution_count": null,
      "outputs": [
        {
          "output_type": "stream",
          "text": [
            "/usr/local/lib/python3.6/dist-packages/seaborn/distributions.py:2551: FutureWarning: `distplot` is a deprecated function and will be removed in a future version. Please adapt your code to use either `displot` (a figure-level function with similar flexibility) or `histplot` (an axes-level function for histograms).\n",
            "  warnings.warn(msg, FutureWarning)\n"
          ],
          "name": "stderr"
        },
        {
          "output_type": "execute_result",
          "data": {
            "text/plain": [
              "<matplotlib.axes._subplots.AxesSubplot at 0x7f327488cb00>"
            ]
          },
          "metadata": {
            "tags": []
          },
          "execution_count": 21
        },
        {
          "output_type": "display_data",
          "data": {
            "image/png": "[encoded data removed]",
            "text/plain": [
              "<Figure size 432x288 with 1 Axes>"
            ]
          },
          "metadata": {
            "tags": []
          }
        }
      ]
    },
    {
      "cell_type": "code",
      "metadata": {
        "colab": {
          "base_uri": "https://localhost:8080/"
        },
        "id": "Kml4_r7qF-qX",
        "outputId": "846fbc39-ae8f-49d0-b24e-b67241c46ca0"
      },
      "source": [
        "print(np.mean(Y_lens), np.std(Y_lens))"
      ],
      "execution_count": null,
      "outputs": [
        {
          "output_type": "stream",
          "text": [
            "1.1048416978556397 0.3511222390797303\n"
          ],
          "name": "stdout"
        }
      ]
    },
    {
      "cell_type": "code",
      "metadata": {
        "colab": {
          "base_uri": "https://localhost:8080/"
        },
        "id": "fZSOk4ybGB-z",
        "outputId": "c1323447-3c84-4855-8af6-1ac7786cb541"
      },
      "source": [
        "MAX_AUTHOR_LENGTH = 3\n",
        "np.unique((Y_lens >= MAX_AUTHOR_LENGTH), return_counts=True)\n"
      ],
      "execution_count": null,
      "outputs": [
        {
          "output_type": "execute_result",
          "data": {
            "text/plain": [
              "(array([False,  True]), array([3145156,   42135]))"
            ]
          },
          "metadata": {
            "tags": []
          },
          "execution_count": 23
        }
      ]
    },
    {
      "cell_type": "code",
      "metadata": {
        "colab": {
          "base_uri": "https://localhost:8080/"
        },
        "id": "UJr2ICSpGWTk",
        "outputId": "5e178f1d-684a-42e3-c2d9-9a08fbbdf1b1"
      },
      "source": [
        "3145156/(3145156+42135)"
      ],
      "execution_count": null,
      "outputs": [
        {
          "output_type": "execute_result",
          "data": {
            "text/plain": [
              "0.9867803096736382"
            ]
          },
          "metadata": {
            "tags": []
          },
          "execution_count": 24
        }
      ]
    },
    {
      "cell_type": "code",
      "metadata": {
        "id": "Q41QfA9-G_7b"
      },
      "source": [
        "labels = tweets_w_auth.pop('class')"
      ],
      "execution_count": null,
      "outputs": []
    },
    {
      "cell_type": "code",
      "metadata": {
        "id": "fU4qdWhxHT5j"
      },
      "source": [
        "X_train, X_test, y_train, y_test = train_test_split(tweets_w_auth, labels)"
      ],
      "execution_count": null,
      "outputs": []
    },
    {
      "cell_type": "code",
      "metadata": {
        "id": "lyBb-uXbHU9e"
      },
      "source": [
        "X_train_author = X_train.pop('author')\n",
        "X_test_author = X_test.pop('author')\n",
        "\n",
        "X_train_content = X_train.pop('content')\n",
        "X_test_content = X_test.pop('content')"
      ],
      "execution_count": null,
      "outputs": []
    },
    {
      "cell_type": "code",
      "metadata": {
        "id": "uzD67ifWHrd4"
      },
      "source": [
        "X_train_author = tf.keras.preprocessing.sequence.pad_sequences(X_train_author,\n",
        "                                                               maxlen=MAX_AUTHOR_LENGTH,\n",
        "                                                               padding='post',\n",
        "                                                               truncating='post')\n",
        "X_test_author = tf.keras.preprocessing.sequence.pad_sequences(X_test_author,\n",
        "                                                              maxlen=MAX_AUTHOR_LENGTH,\n",
        "                                                              padding='post',\n",
        "                                                              truncating='post')"
      ],
      "execution_count": null,
      "outputs": []
    },
    {
      "cell_type": "code",
      "metadata": {
        "id": "gqZAwvCTH-Rj"
      },
      "source": [
        "X_train_content = tf.keras.preprocessing.sequence.pad_sequences(X_train_content,\n",
        "                                                                maxlen=MAX_CONTENT_LENGTH,\n",
        "                                                                padding='post',\n",
        "                                                                truncating='post')\n",
        "X_test_content = tf.keras.preprocessing.sequence.pad_sequences(X_test_content,\n",
        "                                                               maxlen=MAX_CONTENT_LENGTH,\n",
        "                                                               padding='post',\n",
        "                                                               truncating='post')"
      ],
      "execution_count": null,
      "outputs": []
    },
    {
      "cell_type": "code",
      "metadata": {
        "id": "LXwI7qKGIWIK",
        "colab": {
          "base_uri": "https://localhost:8080/"
        },
        "outputId": "93e8f372-347a-4911-c847-d2fab7068b3b"
      },
      "source": [
        "\n",
        "author_input = tf.keras.layers.Input(shape=(MAX_AUTHOR_LENGTH,), name = 'author_input')\n",
        "author_embed = tf.keras.layers.Embedding(len(author_tokenizer.index_word)+1, 50, input_length=MAX_AUTHOR_LENGTH, name='author_embedding')(author_input)\n",
        "author_conv = tf.keras.layers.Conv1D(256, 3, name='author_conv')(author_embed)\n",
        "author_pool = tf.keras.layers.GlobalMaxPooling1D(name='author_pooling')(author_conv)\n",
        "vector_input = tf.keras.layers.Input(shape=(21,), name='twitter_input')\n",
        "concat = tf.keras.layers.concatenate([author_pool, vector_input])\n",
        "dense_100 = tf.keras.layers.Dense(100, activation='relu')(concat)\n",
        "dense_50 = tf.keras.layers.Dense(50, activation='relu')(dense_100)\n",
        "out_layer = tf.keras.layers.Dense(1, activation='sigmoid')(dense_50)\n",
        "model = tf.keras.models.Model(inputs=[author_input, vector_input], outputs=out_layer)\n",
        "model.summary()\n",
        "model.compile(optimizer=tf.keras.optimizers.Adam(0.0005),\n",
        "              loss='binary_crossentropy',\n",
        "              metrics=['accuracy'])"
      ],
      "execution_count": null,
      "outputs": [
        {
          "output_type": "stream",
          "text": [
            "Model: \"functional_1\"\n",
            "__________________________________________________________________________________________________\n",
            "Layer (type)                    Output Shape         Param #     Connected to                     \n",
            "==================================================================================================\n",
            "author_input (InputLayer)       [(None, 3)]          0                                            \n",
            "__________________________________________________________________________________________________\n",
            "author_embedding (Embedding)    (None, 3, 50)        31880850    author_input[0][0]               \n",
            "__________________________________________________________________________________________________\n",
            "author_conv (Conv1D)            (None, 1, 256)       38656       author_embedding[0][0]           \n",
            "__________________________________________________________________________________________________\n",
            "author_pooling (GlobalMaxPoolin (None, 256)          0           author_conv[0][0]                \n",
            "__________________________________________________________________________________________________\n",
            "twitter_input (InputLayer)      [(None, 21)]         0                                            \n",
            "__________________________________________________________________________________________________\n",
            "concatenate (Concatenate)       (None, 277)          0           author_pooling[0][0]             \n",
            "                                                                 twitter_input[0][0]              \n",
            "__________________________________________________________________________________________________\n",
            "dense (Dense)                   (None, 100)          27800       concatenate[0][0]                \n",
            "__________________________________________________________________________________________________\n",
            "dense_1 (Dense)                 (None, 50)           5050        dense[0][0]                      \n",
            "__________________________________________________________________________________________________\n",
            "dense_2 (Dense)                 (None, 1)            51          dense_1[0][0]                    \n",
            "==================================================================================================\n",
            "Total params: 31,952,407\n",
            "Trainable params: 31,952,407\n",
            "Non-trainable params: 0\n",
            "__________________________________________________________________________________________________\n"
          ],
          "name": "stdout"
        }
      ]
    },
    {
      "cell_type": "code",
      "metadata": {
        "id": "svV2S3hVJt67",
        "colab": {
          "base_uri": "https://localhost:8080/"
        },
        "outputId": "6311a425-fdde-4ef9-d395-be8ee870d01e"
      },
      "source": [
        "callback = tf.keras.callbacks.EarlyStopping(monitor='val_accuracy',\n",
        "                                            patience=5,\n",
        "                                            mode='max',\n",
        "                                          restore_best_weights=True)\n",
        "history = model.fit([X_train_author, X_train_content, X_train],\n",
        "                     y_train,\n",
        "                     epochs=10,\n",
        "                     batch_size=8192,\n",
        "                     validation_data=(\n",
        "                           [X_test_author, X_test_content, X_test],\n",
        "                            y_test\n",
        "                     ),\n",
        "callbacks=[callback])"
      ],
      "execution_count": null,
      "outputs": [
        {
          "output_type": "stream",
          "text": [
            "Epoch 1/10\n",
            "292/292 [==============================] - 90s 308ms/step - loss: 4.4387 - accuracy: 0.9986 - val_loss: 5.8635 - val_accuracy: 0.9983\n",
            "Epoch 2/10\n",
            "292/292 [==============================] - 90s 307ms/step - loss: 2.9994 - accuracy: 0.9989 - val_loss: 5.4300 - val_accuracy: 0.9982\n",
            "Epoch 3/10\n",
            "292/292 [==============================] - 90s 309ms/step - loss: 2.2528 - accuracy: 0.9991 - val_loss: 4.5360 - val_accuracy: 0.9986\n",
            "Epoch 4/10\n",
            "292/292 [==============================] - 87s 298ms/step - loss: 1.6081 - accuracy: 0.9993 - val_loss: 4.5185 - val_accuracy: 0.9987\n",
            "Epoch 5/10\n",
            "292/292 [==============================] - 88s 300ms/step - loss: 1.2721 - accuracy: 0.9994 - val_loss: 3.9997 - val_accuracy: 0.9987\n",
            "Epoch 6/10\n",
            "292/292 [==============================] - 87s 298ms/step - loss: 0.9475 - accuracy: 0.9995 - val_loss: 3.8018 - val_accuracy: 0.9987\n",
            "Epoch 7/10\n",
            "292/292 [==============================] - 87s 296ms/step - loss: 0.7663 - accuracy: 0.9996 - val_loss: 3.7466 - val_accuracy: 0.9989\n",
            "Epoch 8/10\n",
            "292/292 [==============================] - 84s 288ms/step - loss: 0.5904 - accuracy: 0.9996 - val_loss: 3.7869 - val_accuracy: 0.9987\n",
            "Epoch 9/10\n",
            "292/292 [==============================] - 84s 288ms/step - loss: 0.4868 - accuracy: 0.9997 - val_loss: 2.9350 - val_accuracy: 0.9992\n",
            "Epoch 10/10\n",
            "292/292 [==============================] - 87s 296ms/step - loss: 0.3901 - accuracy: 0.9997 - val_loss: 3.2693 - val_accuracy: 0.9989\n"
          ],
          "name": "stdout"
        }
      ]
    },
    {
      "cell_type": "code",
      "metadata": {
        "id": "6giZXAYtPWrh"
      },
      "source": [
        "preds = model.predict([X_test_author, X_test_content, X_test])"
      ],
      "execution_count": null,
      "outputs": []
    },
    {
      "cell_type": "code",
      "metadata": {
        "id": "r7940pI-PhOq",
        "colab": {
          "base_uri": "https://localhost:8080/"
        },
        "outputId": "833fe211-e712-4249-8ce0-c7be101a18de"
      },
      "source": [
        "model.evaluate([X_test_author, X_test_content, X_test], y_test)"
      ],
      "execution_count": null,
      "outputs": [
        {
          "output_type": "stream",
          "text": [
            "24901/24901 [==============================] - 47s 2ms/step - loss: 3.2693 - accuracy: 0.9989\n"
          ],
          "name": "stdout"
        },
        {
          "output_type": "execute_result",
          "data": {
            "text/plain": [
              "[3.2692904472351074, 0.9988793134689331]"
            ]
          },
          "metadata": {
            "tags": []
          },
          "execution_count": 36
        }
      ]
    },
    {
      "cell_type": "code",
      "metadata": {
        "id": "2phdxeeiPxh6"
      },
      "source": [
        ""
      ],
      "execution_count": null,
      "outputs": []
    },
    {
      "cell_type": "code",
      "metadata": {
        "id": "gGguFEbkP33O",
        "colab": {
          "base_uri": "https://localhost:8080/",
          "height": 581
        },
        "outputId": "87a0fa6f-4439-4ac3-bdea-a8ca04dfc5cf"
      },
      "source": [
        "import matplotlib.pyplot as plt\n",
        "plt.plot(history.history['accuracy'])\n",
        "plt.plot(history.history['val_accuracy'])\n",
        "plt.title('model accuracy')\n",
        "plt.ylabel('accuracy')\n",
        "plt.xlabel('epoch')\n",
        "plt.legend(['train', 'test'], loc='upper left')\n",
        "plt.show()\n",
        "# summarize history for loss\n",
        "plt.plot(history.history['loss'])\n",
        "plt.plot(history.history['val_loss'])\n",
        "plt.title('model loss')\n",
        "plt.ylabel('loss')\n",
        "plt.xlabel('epoch')\n",
        "plt.legend(['train', 'test'], loc='upper left')\n",
        "plt.show()"
      ],
      "execution_count": null,
      "outputs": [
        {
          "output_type": "display_data",
          "data": {
            "image/png": "[encoded data removed]",
            "text/plain": [
              "<Figure size 432x288 with 1 Axes>"
            ]
          },
          "metadata": {
            "tags": []
          }
        },
        {
          "output_type": "display_data",
          "data": {
            "image/png": "[encoded data removed]",
            "text/plain": [
              "<Figure size 432x288 with 1 Axes>"
            ]
          },
          "metadata": {
            "tags": []
          }
        }
      ]
    },
    {
      "cell_type": "code",
      "metadata": {
        "id": "owysR-2ZK7WB"
      },
      "source": [
        ""
      ],
      "execution_count": null,
      "outputs": []
    }
  ]
}