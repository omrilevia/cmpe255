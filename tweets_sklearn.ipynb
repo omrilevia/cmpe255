{
  "nbformat": 4,
  "nbformat_minor": 0,
  "metadata": {
    "colab": {
      "name": "tweets-sklearn.ipynb",
      "provenance": [],
      "collapsed_sections": []
    },
    "kernelspec": {
      "name": "python3",
      "display_name": "Python 3"
    },
    "accelerator": "GPU"
  },
  "cells": [
    {
      "cell_type": "code",
      "metadata": {
        "colab": {
          "base_uri": "https://localhost:8080/"
        },
        "id": "vlj40kvPOE9d",
        "outputId": "3473ce86-de53-4491-913b-18ad455a7cd0"
      },
      "source": [
        "from google.colab import drive\n",
        "drive.mount('/mydrive')"
      ],
      "execution_count": 1,
      "outputs": [
        {
          "output_type": "stream",
          "text": [
            "Drive already mounted at /mydrive; to attempt to forcibly remount, call drive.mount(\"/mydrive\", force_remount=True).\n"
          ],
          "name": "stdout"
        }
      ]
    },
    {
      "cell_type": "code",
      "metadata": {
        "id": "aIqRJpkOOUcU"
      },
      "source": [
        "import numpy as np\n",
        "import pandas as pd"
      ],
      "execution_count": 2,
      "outputs": []
    },
    {
      "cell_type": "code",
      "metadata": {
        "id": "ADDDlcF4Odb3"
      },
      "source": [
        "tweetsdf = pd.read_csv('/mydrive/MyDrive/CMPE255/tweets.csv')"
      ],
      "execution_count": 3,
      "outputs": []
    },
    {
      "cell_type": "code",
      "metadata": {
        "colab": {
          "base_uri": "https://localhost:8080/",
          "height": 204
        },
        "id": "Pfl5f6eCOmwZ",
        "outputId": "9a76e6f1-5138-4420-8968-d8d0f0009c56"
      },
      "source": [
        "tweetsdf.head()"
      ],
      "execution_count": 5,
      "outputs": [
        {
          "output_type": "execute_result",
          "data": {
            "text/html": [
              "<div>\n",
              "<style scoped>\n",
              "    .dataframe tbody tr th:only-of-type {\n",
              "        vertical-align: middle;\n",
              "    }\n",
              "\n",
              "    .dataframe tbody tr th {\n",
              "        vertical-align: top;\n",
              "    }\n",
              "\n",
              "    .dataframe thead th {\n",
              "        text-align: right;\n",
              "    }\n",
              "</style>\n",
              "<table border=\"1\" class=\"dataframe\">\n",
              "  <thead>\n",
              "    <tr style=\"text-align: right;\">\n",
              "      <th></th>\n",
              "      <th>content</th>\n",
              "      <th>class</th>\n",
              "    </tr>\n",
              "  </thead>\n",
              "  <tbody>\n",
              "    <tr>\n",
              "      <th>0</th>\n",
              "      <td>@switchfoot http://twitpic.com/2y1zl - Awww, t...</td>\n",
              "      <td>0</td>\n",
              "    </tr>\n",
              "    <tr>\n",
              "      <th>1</th>\n",
              "      <td>is upset that he can't update his Facebook by ...</td>\n",
              "      <td>0</td>\n",
              "    </tr>\n",
              "    <tr>\n",
              "      <th>2</th>\n",
              "      <td>@Kenichan I dived many times for the ball. Man...</td>\n",
              "      <td>0</td>\n",
              "    </tr>\n",
              "    <tr>\n",
              "      <th>3</th>\n",
              "      <td>my whole body feels itchy and like its on fire</td>\n",
              "      <td>0</td>\n",
              "    </tr>\n",
              "    <tr>\n",
              "      <th>4</th>\n",
              "      <td>@nationwideclass no, it's not behaving at all....</td>\n",
              "      <td>0</td>\n",
              "    </tr>\n",
              "  </tbody>\n",
              "</table>\n",
              "</div>"
            ],
            "text/plain": [
              "                                             content  class\n",
              "0  @switchfoot http://twitpic.com/2y1zl - Awww, t...      0\n",
              "1  is upset that he can't update his Facebook by ...      0\n",
              "2  @Kenichan I dived many times for the ball. Man...      0\n",
              "3    my whole body feels itchy and like its on fire       0\n",
              "4  @nationwideclass no, it's not behaving at all....      0"
            ]
          },
          "metadata": {
            "tags": []
          },
          "execution_count": 5
        }
      ]
    },
    {
      "cell_type": "code",
      "metadata": {
        "colab": {
          "base_uri": "https://localhost:8080/"
        },
        "id": "KXh_-OEuOrQ5",
        "outputId": "f3a91765-7861-40e3-df9a-d2d08e656b2b"
      },
      "source": [
        "%matplotlib inline\n",
        "import matplotlib.pyplot as plt\n",
        "from nltk.stem import PorterStemmer \n",
        "from nltk.tokenize import word_tokenize \n",
        "from sklearn import linear_model\n",
        "import csv\n",
        "import string\n",
        "import io  \n",
        "import nltk\n",
        "from nltk.corpus import stopwords\n",
        "nltk.download('stopwords')\n",
        "stop = stopwords.words('english') "
      ],
      "execution_count": 6,
      "outputs": [
        {
          "output_type": "stream",
          "text": [
            "[nltk_data] Downloading package stopwords to /root/nltk_data...\n",
            "[nltk_data]   Package stopwords is already up-to-date!\n"
          ],
          "name": "stdout"
        }
      ]
    },
    {
      "cell_type": "code",
      "metadata": {
        "id": "QDTsiE-DOy-o"
      },
      "source": [
        "tweetsdf['content'] = tweetsdf['content'].apply(\n",
        "    lambda x: ' '.join([word for word in (str(x)).split() if word not in (stop)]))\n",
        "tweetsdf['content'] = tweetsdf.content.str.replace('[^a-zA-Z\\s]', '')"
      ],
      "execution_count": 7,
      "outputs": []
    },
    {
      "cell_type": "code",
      "metadata": {
        "id": "4iQcRA3_PDQN"
      },
      "source": [
        "import tensorflow as tf\n",
        "from sklearn.model_selection import train_test_split\n",
        "from sklearn.metrics import precision_score, recall_score, f1_score\n",
        "import matplotlib.pyplot as plt"
      ],
      "execution_count": 8,
      "outputs": []
    },
    {
      "cell_type": "code",
      "metadata": {
        "id": "5MMrmMvzPJgX"
      },
      "source": [
        "labels = tweetsdf.pop('class')"
      ],
      "execution_count": 9,
      "outputs": []
    },
    {
      "cell_type": "code",
      "metadata": {
        "id": "kYw1tLRkPKAs"
      },
      "source": [
        "X_train, X_test, y_train, y_test = train_test_split(tweetsdf,labels)"
      ],
      "execution_count": 10,
      "outputs": []
    },
    {
      "cell_type": "code",
      "metadata": {
        "id": "JDkfLOF7PNXG"
      },
      "source": [
        "from sklearn.feature_extraction.text import CountVectorizer\n",
        "count_vect = CountVectorizer()\n",
        "X_train_counts = count_vect.fit_transform(X_train['content'])"
      ],
      "execution_count": 11,
      "outputs": []
    },
    {
      "cell_type": "code",
      "metadata": {
        "colab": {
          "base_uri": "https://localhost:8080/"
        },
        "id": "9rI4PZe4PyXu",
        "outputId": "ff8684e0-c476-4404-d09a-9bb4cc17533e"
      },
      "source": [
        "from sklearn.feature_extraction.text import TfidfTransformer\n",
        "tfidf_transformer = TfidfTransformer()\n",
        "X_train_tfidf = tfidf_transformer.fit_transform(X_train_counts)\n",
        "X_train_tfidf.shape"
      ],
      "execution_count": 12,
      "outputs": [
        {
          "output_type": "execute_result",
          "data": {
            "text/plain": [
              "(2391748, 1956739)"
            ]
          },
          "metadata": {
            "tags": []
          },
          "execution_count": 12
        }
      ]
    },
    {
      "cell_type": "code",
      "metadata": {
        "id": "I9HocZfWS-Mq"
      },
      "source": [
        "X_new_counts = count_vect.transform(X_test['content'])\n",
        "X_new_tfidf = tfidf_transformer.transform(X_new_counts)"
      ],
      "execution_count": 13,
      "outputs": []
    },
    {
      "cell_type": "code",
      "metadata": {
        "id": "VwhSehKcGf-7"
      },
      "source": [
        "# find number of components to keep\n",
        "from sklearn.decomposition import TruncatedSVD\n",
        "tsvd = TruncatedSVD(n_components=16)\n",
        "tsvd.fit(X_train_counts)\n",
        "X_test_svd = tsvd.transform(X_new_tfidf)\n",
        "X_train_svd = tsvd.transform(X_train_tfidf)\n",
        "\n",
        "# find explained variance \n",
        "#tsvd_var = tsvd.explained_variance_ratio_"
      ],
      "execution_count": 14,
      "outputs": []
    },
    {
      "cell_type": "code",
      "metadata": {
        "id": "3fle1LWhIr0M"
      },
      "source": [
        ""
      ],
      "execution_count": null,
      "outputs": []
    },
    {
      "cell_type": "code",
      "metadata": {
        "id": "grDT87dtP7g1"
      },
      "source": [
        "from sklearn.linear_model import LogisticRegression\n",
        "from sklearn.naive_bayes import GaussianNB\n",
        "from sklearn.linear_model import SGDClassifier\n",
        "from sklearn.neighbors import KNeighborsClassifier\n",
        "from sklearn.tree import DecisionTreeClassifier\n",
        "from sklearn.ensemble import RandomForestClassifier\n",
        "from sklearn.svm import SVC"
      ],
      "execution_count": 18,
      "outputs": []
    },
    {
      "cell_type": "code",
      "metadata": {
        "id": "VQuiBTyARLLP"
      },
      "source": [
        "clfs = []\n",
        "clfs.append(LogisticRegression(max_iter=10000))\n",
        "clfs.append(GaussianNB())\n",
        "clfs.append(SGDClassifier(loss='modified_huber', shuffle=True, random_state=101, max_iter=100000))\n",
        "clfs.append(KNeighborsClassifier(n_neighbors=4))\n",
        "clfs.append(DecisionTreeClassifier(max_depth=10, random_state=101, max_features=None, min_samples_leaf=2))\n",
        "clfs.append(RandomForestClassifier(n_estimators=70, oob_score=True, n_jobs=-1, random_state=101, max_features=None, min_samples_leaf=2))\n",
        "clfs.append(SVC(kernel='linear', C=0.025, random_state=101))"
      ],
      "execution_count": 19,
      "outputs": []
    },
    {
      "cell_type": "code",
      "metadata": {
        "id": "-fTJWWgTTbFw"
      },
      "source": [
        "from sklearn.metrics import precision_score, recall_score, f1_score, accuracy_score"
      ],
      "execution_count": 20,
      "outputs": []
    },
    {
      "cell_type": "code",
      "metadata": {
        "colab": {
          "base_uri": "https://localhost:8080/"
        },
        "id": "UqwwB0PVRNqA",
        "outputId": "a93bee9f-04be-4309-cbd5-88581808c16d"
      },
      "source": [
        "clf_preds = []\n",
        "for clf in clfs:\n",
        "    clf.fit(X_train_svd, y_train)\n",
        "    clf_pred = clf.predict(X_test_svd)\n",
        "    clf_preds.append(clf_pred)\n",
        "    print(accuracy_score(y_test, clf_pred))"
      ],
      "execution_count": null,
      "outputs": [
        {
          "output_type": "stream",
          "text": [
            "0.7857422389463782\n",
            "0.6640627155848229\n",
            "0.7738287864534337\n",
            "0.8497949200376294\n",
            "0.8169720915647538\n"
          ],
          "name": "stdout"
        }
      ]
    },
    {
      "cell_type": "code",
      "metadata": {
        "id": "5y9OhQg1RQQt"
      },
      "source": [
        ""
      ],
      "execution_count": null,
      "outputs": []
    }
  ]
}