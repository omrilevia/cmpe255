{
 "cells": [
  {
   "cell_type": "code",
   "execution_count": 1,
   "metadata": {},
   "outputs": [],
   "source": [
    "import numpy as np\n",
    "import pandas as pd"
   ]
  },
  {
   "cell_type": "markdown",
   "metadata": {},
   "source": [
    "## Load in the dataset, make sure to change the path"
   ]
  },
  {
   "cell_type": "code",
   "execution_count": 6,
   "metadata": {},
   "outputs": [
    {
     "data": {
      "text/html": [
       "<div>\n",
       "<style scoped>\n",
       "    .dataframe tbody tr th:only-of-type {\n",
       "        vertical-align: middle;\n",
       "    }\n",
       "\n",
       "    .dataframe tbody tr th {\n",
       "        vertical-align: top;\n",
       "    }\n",
       "\n",
       "    .dataframe thead th {\n",
       "        text-align: right;\n",
       "    }\n",
       "</style>\n",
       "<table border=\"1\" class=\"dataframe\">\n",
       "  <thead>\n",
       "    <tr style=\"text-align: right;\">\n",
       "      <th></th>\n",
       "      <th>author</th>\n",
       "      <th>content</th>\n",
       "      <th>class</th>\n",
       "    </tr>\n",
       "  </thead>\n",
       "  <tbody>\n",
       "    <tr>\n",
       "      <th>0</th>\n",
       "      <td>TONYLYNNNNN</td>\n",
       "      <td>Gonna be a nice Xmas Eve! #MerryXmas https://t...</td>\n",
       "      <td>1</td>\n",
       "    </tr>\n",
       "    <tr>\n",
       "      <th>1</th>\n",
       "      <td>JFHUJ</td>\n",
       "      <td>@Laurentiius All purpose, Gold Medal sifted fl...</td>\n",
       "      <td>0</td>\n",
       "    </tr>\n",
       "    <tr>\n",
       "      <th>2</th>\n",
       "      <td>BRIANAREGLAND</td>\n",
       "      <td>anybody got a place in ATL for me to stay at! ...</td>\n",
       "      <td>1</td>\n",
       "    </tr>\n",
       "    <tr>\n",
       "      <th>3</th>\n",
       "      <td>DOROTHIEBELL</td>\n",
       "      <td>Tonganoxie police: Middle school girl sexually...</td>\n",
       "      <td>1</td>\n",
       "    </tr>\n",
       "    <tr>\n",
       "      <th>4</th>\n",
       "      <td>RANDALL_COOKE</td>\n",
       "      <td>MT @ChristiChat: #WakeUpAmerica - FOUR AMERICA...</td>\n",
       "      <td>1</td>\n",
       "    </tr>\n",
       "  </tbody>\n",
       "</table>\n",
       "</div>"
      ],
      "text/plain": [
       "          author                                            content  class\n",
       "0    TONYLYNNNNN  Gonna be a nice Xmas Eve! #MerryXmas https://t...      1\n",
       "1          JFHUJ  @Laurentiius All purpose, Gold Medal sifted fl...      0\n",
       "2  BRIANAREGLAND  anybody got a place in ATL for me to stay at! ...      1\n",
       "3   DOROTHIEBELL  Tonganoxie police: Middle school girl sexually...      1\n",
       "4  RANDALL_COOKE  MT @ChristiChat: #WakeUpAmerica - FOUR AMERICA...      1"
      ]
     },
     "execution_count": 6,
     "metadata": {},
     "output_type": "execute_result"
    }
   ],
   "source": [
    "sample_data = pd.read_csv('sample_dataset.csv')\n",
    "sample_data.head()"
   ]
  },
  {
   "cell_type": "markdown",
   "metadata": {},
   "source": [
    "### Removing stop words from the content column"
   ]
  },
  {
   "cell_type": "code",
   "execution_count": 8,
   "metadata": {},
   "outputs": [
    {
     "name": "stderr",
     "output_type": "stream",
     "text": [
      "[nltk_data] Downloading package stopwords to\n",
      "[nltk_data]     C:\\Users\\omril\\AppData\\Roaming\\nltk_data...\n",
      "[nltk_data]   Package stopwords is already up-to-date!\n"
     ]
    }
   ],
   "source": [
    "import nltk\n",
    "from nltk.corpus import stopwords\n",
    "nltk.download('stopwords')\n",
    "stop = stopwords.words('english')\n",
    "sample_data['content'] = sample_data['content'].apply(\n",
    "    lambda x: ' '.join([word for word in (str(x)).split() if word not in (stop)]))"
   ]
  },
  {
   "cell_type": "code",
   "execution_count": 12,
   "metadata": {},
   "outputs": [],
   "source": [
    "import tensorflow as tf\n",
    "from sklearn.model_selection import train_test_split\n",
    "from sklearn.metrics import precision_score, recall_score, f1_score\n",
    "import matplotlib.pyplot as plt\n",
    "plt.style.use('ggplot')\n",
    "import seaborn as sns"
   ]
  },
  {
   "cell_type": "markdown",
   "metadata": {},
   "source": [
    "#### Tokenizing the text and author columns"
   ]
  },
  {
   "cell_type": "code",
   "execution_count": 14,
   "metadata": {},
   "outputs": [],
   "source": [
    "tokenizer = tf.keras.preprocessing.text.Tokenizer()\n",
    "tokenizer.fit_on_texts(sample_data['content'])\n",
    "sample_data['content'] = tokenizer.texts_to_sequences(sample_data['content'])"
   ]
  },
  {
   "cell_type": "code",
   "execution_count": 15,
   "metadata": {},
   "outputs": [],
   "source": [
    "author_tokenizer = tf.keras.preprocessing.text.Tokenizer()\n",
    "author_tokenizer.fit_on_texts(sample_data['author'])\n",
    "sample_data['author'] = author_tokenizer.texts_to_sequences(sample_data['author'])"
   ]
  },
  {
   "cell_type": "markdown",
   "metadata": {},
   "source": [
    "#### Determine the average lengths of the text and author arrays"
   ]
  },
  {
   "cell_type": "code",
   "execution_count": 17,
   "metadata": {},
   "outputs": [
    {
     "data": {
      "text/plain": [
       "<matplotlib.axes._subplots.AxesSubplot at 0x24c3d1dce20>"
      ]
     },
     "execution_count": 17,
     "metadata": {},
     "output_type": "execute_result"
    },
    {
     "data": {
      "image/png": "[encoded data removed]",
      "text/plain": [
       "<Figure size 432x288 with 1 Axes>"
      ]
     },
     "metadata": {},
     "output_type": "display_data"
    }
   ],
   "source": [
    "X_lens = [len(x) for x in sample_data['content'].values]\n",
    "X_lens = np.array(X_lens)\n",
    "sns.distplot(X_lens)"
   ]
  },
  {
   "cell_type": "code",
   "execution_count": 18,
   "metadata": {},
   "outputs": [
    {
     "name": "stdout",
     "output_type": "stream",
     "text": [
      "11.114680136792897 5.187815129714854\n"
     ]
    }
   ],
   "source": [
    "print(np.mean(X_lens), np.std(X_lens))"
   ]
  },
  {
   "cell_type": "code",
   "execution_count": 19,
   "metadata": {},
   "outputs": [
    {
     "data": {
      "text/plain": [
       "(array([False,  True]), array([154961,   4404], dtype=int64))"
      ]
     },
     "execution_count": 19,
     "metadata": {},
     "output_type": "execute_result"
    }
   ],
   "source": [
    "MAX_CONTENT_LENGTH = 21\n",
    "np.unique((X_lens >= MAX_CONTENT_LENGTH), return_counts=True)"
   ]
  },
  {
   "cell_type": "code",
   "execution_count": 20,
   "metadata": {},
   "outputs": [
    {
     "data": {
      "text/plain": [
       "0.9723653248831299"
      ]
     },
     "execution_count": 20,
     "metadata": {},
     "output_type": "execute_result"
    }
   ],
   "source": [
    "(154961)/(154961+4404)"
   ]
  },
  {
   "cell_type": "code",
   "execution_count": 22,
   "metadata": {},
   "outputs": [
    {
     "name": "stderr",
     "output_type": "stream",
     "text": [
      "C:\\Users\\omril\\anaconda3\\lib\\site-packages\\seaborn\\distributions.py:369: UserWarning: Default bandwidth for data is 0; skipping density estimation.\n",
      "  warnings.warn(msg, UserWarning)\n"
     ]
    },
    {
     "data": {
      "text/plain": [
       "<matplotlib.axes._subplots.AxesSubplot at 0x24c3b203220>"
      ]
     },
     "execution_count": 22,
     "metadata": {},
     "output_type": "execute_result"
    },
    {
     "data": {
      "image/png": "[encoded data removed]",
      "text/plain": [
       "<Figure size 432x288 with 1 Axes>"
      ]
     },
     "metadata": {},
     "output_type": "display_data"
    }
   ],
   "source": [
    "Y_lens = [len(x) for x in sample_data['author'].values]\n",
    "Y_lens = np.array(Y_lens)\n",
    "sns.distplot(Y_lens)"
   ]
  },
  {
   "cell_type": "code",
   "execution_count": 23,
   "metadata": {},
   "outputs": [
    {
     "name": "stdout",
     "output_type": "stream",
     "text": [
      "1.1038998525397672 0.348863416599461\n"
     ]
    }
   ],
   "source": [
    "print(np.mean(Y_lens), np.std(Y_lens))"
   ]
  },
  {
   "cell_type": "code",
   "execution_count": 24,
   "metadata": {},
   "outputs": [
    {
     "data": {
      "text/plain": [
       "(array([False,  True]), array([157338,   2027], dtype=int64))"
      ]
     },
     "execution_count": 24,
     "metadata": {},
     "output_type": "execute_result"
    }
   ],
   "source": [
    "MAX_AUTHOR_LENGTH = 3\n",
    "np.unique((Y_lens >= MAX_AUTHOR_LENGTH), return_counts=True)"
   ]
  },
  {
   "cell_type": "code",
   "execution_count": 25,
   "metadata": {},
   "outputs": [],
   "source": [
    "labels = sample_data.pop('class')"
   ]
  },
  {
   "cell_type": "markdown",
   "metadata": {},
   "source": [
    "#### Split test and train, then pad the arrays to make them uniform length"
   ]
  },
  {
   "cell_type": "code",
   "execution_count": 26,
   "metadata": {},
   "outputs": [],
   "source": [
    "X_train, X_test, y_train, y_test = train_test_split(sample_data, labels)"
   ]
  },
  {
   "cell_type": "code",
   "execution_count": 27,
   "metadata": {},
   "outputs": [],
   "source": [
    "X_train_author = X_train.pop('author')\n",
    "X_test_author = X_test.pop('author')\n",
    "\n",
    "X_train_content = X_train.pop('content')\n",
    "X_test_content = X_test.pop('content')"
   ]
  },
  {
   "cell_type": "code",
   "execution_count": 28,
   "metadata": {},
   "outputs": [],
   "source": [
    "X_train_author = tf.keras.preprocessing.sequence.pad_sequences(X_train_author,\n",
    "                                                               maxlen=MAX_AUTHOR_LENGTH,\n",
    "                                                               padding='post',\n",
    "                                                               truncating='post')\n",
    "X_test_author = tf.keras.preprocessing.sequence.pad_sequences(X_test_author,\n",
    "                                                              maxlen=MAX_AUTHOR_LENGTH,\n",
    "                                                              padding='post',\n",
    "                                                              truncating='post')"
   ]
  },
  {
   "cell_type": "code",
   "execution_count": 29,
   "metadata": {},
   "outputs": [],
   "source": [
    "X_train_content = tf.keras.preprocessing.sequence.pad_sequences(X_train_content,\n",
    "                                                                maxlen=MAX_CONTENT_LENGTH,\n",
    "                                                                padding='post',\n",
    "                                                                truncating='post')\n",
    "X_test_content = tf.keras.preprocessing.sequence.pad_sequences(X_test_content,\n",
    "                                                               maxlen=MAX_CONTENT_LENGTH,\n",
    "                                                               padding='post',\n",
    "                                                               truncating='post')"
   ]
  },
  {
   "cell_type": "markdown",
   "metadata": {},
   "source": [
    "#### Create CNN model layers"
   ]
  },
  {
   "cell_type": "code",
   "execution_count": 30,
   "metadata": {},
   "outputs": [
    {
     "name": "stdout",
     "output_type": "stream",
     "text": [
      "Model: \"functional_1\"\n",
      "__________________________________________________________________________________________________\n",
      "Layer (type)                    Output Shape         Param #     Connected to                     \n",
      "==================================================================================================\n",
      "author_input (InputLayer)       [(None, 3)]          0                                            \n",
      "__________________________________________________________________________________________________\n",
      "author_embedding (Embedding)    (None, 3, 50)        3498900     author_input[0][0]               \n",
      "__________________________________________________________________________________________________\n",
      "author_conv (Conv1D)            (None, 1, 256)       38656       author_embedding[0][0]           \n",
      "__________________________________________________________________________________________________\n",
      "author_pooling (GlobalMaxPoolin (None, 256)          0           author_conv[0][0]                \n",
      "__________________________________________________________________________________________________\n",
      "twitter_input (InputLayer)      [(None, 21)]         0                                            \n",
      "__________________________________________________________________________________________________\n",
      "concatenate (Concatenate)       (None, 277)          0           author_pooling[0][0]             \n",
      "                                                                 twitter_input[0][0]              \n",
      "__________________________________________________________________________________________________\n",
      "dense (Dense)                   (None, 100)          27800       concatenate[0][0]                \n",
      "__________________________________________________________________________________________________\n",
      "dense_1 (Dense)                 (None, 50)           5050        dense[0][0]                      \n",
      "__________________________________________________________________________________________________\n",
      "dense_2 (Dense)                 (None, 1)            51          dense_1[0][0]                    \n",
      "==================================================================================================\n",
      "Total params: 3,570,457\n",
      "Trainable params: 3,570,457\n",
      "Non-trainable params: 0\n",
      "__________________________________________________________________________________________________\n"
     ]
    }
   ],
   "source": [
    "\n",
    "author_input = tf.keras.layers.Input(shape=(MAX_AUTHOR_LENGTH,), name = 'author_input')\n",
    "author_embed = tf.keras.layers.Embedding(len(author_tokenizer.index_word)+1, 50, input_length=MAX_AUTHOR_LENGTH, name='author_embedding')(author_input)\n",
    "author_conv = tf.keras.layers.Conv1D(256, 3, name='author_conv')(author_embed)\n",
    "author_pool = tf.keras.layers.GlobalMaxPooling1D(name='author_pooling')(author_conv)\n",
    "vector_input = tf.keras.layers.Input(shape=(21,), name='twitter_input')\n",
    "concat = tf.keras.layers.concatenate([author_pool, vector_input])\n",
    "dense_100 = tf.keras.layers.Dense(100, activation='relu')(concat)\n",
    "dense_50 = tf.keras.layers.Dense(50, activation='relu')(dense_100)\n",
    "out_layer = tf.keras.layers.Dense(1, activation='sigmoid')(dense_50)\n",
    "model = tf.keras.models.Model(inputs=[author_input, vector_input], outputs=out_layer)\n",
    "model.summary()\n",
    "model.compile(optimizer=tf.keras.optimizers.Adam(0.0005),\n",
    "              loss='binary_crossentropy',\n",
    "              metrics=['accuracy'])"
   ]
  },
  {
   "cell_type": "code",
   "execution_count": 32,
   "metadata": {},
   "outputs": [
    {
     "name": "stdout",
     "output_type": "stream",
     "text": [
      "Epoch 1/20\n",
      "15/15 [==============================] - 1s 70ms/step - loss: 86.3313 - accuracy: 0.8052 - val_loss: 84.2683 - val_accuracy: 0.8044\n",
      "Epoch 2/20\n",
      "15/15 [==============================] - 1s 69ms/step - loss: 76.7580 - accuracy: 0.8241 - val_loss: 76.3801 - val_accuracy: 0.8258\n",
      "Epoch 3/20\n",
      "15/15 [==============================] - 1s 72ms/step - loss: 68.1747 - accuracy: 0.8476 - val_loss: 69.4646 - val_accuracy: 0.8467\n",
      "Epoch 4/20\n",
      "15/15 [==============================] - 1s 70ms/step - loss: 60.5043 - accuracy: 0.8661 - val_loss: 63.6450 - val_accuracy: 0.8588\n",
      "Epoch 5/20\n",
      "15/15 [==============================] - 1s 70ms/step - loss: 53.8762 - accuracy: 0.8835 - val_loss: 58.3355 - val_accuracy: 0.8721\n",
      "Epoch 6/20\n",
      "15/15 [==============================] - 1s 70ms/step - loss: 48.1646 - accuracy: 0.8986 - val_loss: 53.8794 - val_accuracy: 0.8845\n",
      "Epoch 7/20\n",
      "15/15 [==============================] - 1s 69ms/step - loss: 43.3196 - accuracy: 0.9115 - val_loss: 49.8114 - val_accuracy: 0.8961\n",
      "Epoch 8/20\n",
      "15/15 [==============================] - 1s 71ms/step - loss: 39.0583 - accuracy: 0.9227 - val_loss: 46.1036 - val_accuracy: 0.9083\n",
      "Epoch 9/20\n",
      "15/15 [==============================] - 1s 67ms/step - loss: 35.3814 - accuracy: 0.9331 - val_loss: 43.1132 - val_accuracy: 0.9156\n",
      "Epoch 10/20\n",
      "15/15 [==============================] - 1s 72ms/step - loss: 32.1139 - accuracy: 0.9407 - val_loss: 40.6990 - val_accuracy: 0.9212\n",
      "Epoch 11/20\n",
      "15/15 [==============================] - 1s 68ms/step - loss: 29.3002 - accuracy: 0.9464 - val_loss: 38.3921 - val_accuracy: 0.9267\n",
      "Epoch 12/20\n",
      "15/15 [==============================] - 1s 70ms/step - loss: 26.8157 - accuracy: 0.9523 - val_loss: 36.3807 - val_accuracy: 0.9316\n",
      "Epoch 13/20\n",
      "15/15 [==============================] - 1s 71ms/step - loss: 24.4129 - accuracy: 0.9576 - val_loss: 34.2959 - val_accuracy: 0.9366\n",
      "Epoch 14/20\n",
      "15/15 [==============================] - 1s 70ms/step - loss: 22.3560 - accuracy: 0.9621 - val_loss: 32.4169 - val_accuracy: 0.9423\n",
      "Epoch 15/20\n",
      "15/15 [==============================] - 1s 70ms/step - loss: 20.5177 - accuracy: 0.9652 - val_loss: 31.2033 - val_accuracy: 0.9435\n",
      "Epoch 16/20\n",
      "15/15 [==============================] - 1s 68ms/step - loss: 18.7186 - accuracy: 0.9692 - val_loss: 29.5392 - val_accuracy: 0.9468\n",
      "Epoch 17/20\n",
      "15/15 [==============================] - 1s 71ms/step - loss: 17.1062 - accuracy: 0.9720 - val_loss: 28.6093 - val_accuracy: 0.9478\n",
      "Epoch 18/20\n",
      "15/15 [==============================] - 1s 70ms/step - loss: 15.6956 - accuracy: 0.9742 - val_loss: 27.1782 - val_accuracy: 0.9520\n",
      "Epoch 19/20\n",
      "15/15 [==============================] - 1s 70ms/step - loss: 14.3090 - accuracy: 0.9774 - val_loss: 26.1287 - val_accuracy: 0.9521\n",
      "Epoch 20/20\n",
      "15/15 [==============================] - 1s 69ms/step - loss: 13.1119 - accuracy: 0.9785 - val_loss: 24.8809 - val_accuracy: 0.9583\n"
     ]
    }
   ],
   "source": [
    "callback = tf.keras.callbacks.EarlyStopping(monitor='val_accuracy',\n",
    "                                            patience=5,\n",
    "                                            mode='max',\n",
    "                                          restore_best_weights=True)\n",
    "history = model.fit([X_train_author, X_train_content, X_train],\n",
    "                     y_train,\n",
    "                     epochs=20,\n",
    "                     batch_size=8192,\n",
    "                     validation_data=(\n",
    "                           [X_test_author, X_test_content, X_test],\n",
    "                            y_test\n",
    "                     ),\n",
    "callbacks=[callback])"
   ]
  },
  {
   "cell_type": "code",
   "execution_count": 33,
   "metadata": {},
   "outputs": [],
   "source": [
    "preds = model.predict([X_test_author, X_test_content, X_test])"
   ]
  },
  {
   "cell_type": "code",
   "execution_count": 34,
   "metadata": {},
   "outputs": [
    {
     "name": "stdout",
     "output_type": "stream",
     "text": [
      "1246/1246 [==============================] - 1s 436us/step - loss: 24.8809 - accuracy: 0.9583\n"
     ]
    },
    {
     "data": {
      "text/plain": [
       "[24.880929946899414, 0.9583103060722351]"
      ]
     },
     "execution_count": 34,
     "metadata": {},
     "output_type": "execute_result"
    }
   ],
   "source": [
    "model.evaluate([X_test_author, X_test_content, X_test], y_test)"
   ]
  },
  {
   "cell_type": "code",
   "execution_count": 35,
   "metadata": {},
   "outputs": [
    {
     "data": {
      "image/png": "[encoded data removed]",
      "text/plain": [
       "<Figure size 432x288 with 1 Axes>"
      ]
     },
     "metadata": {},
     "output_type": "display_data"
    },
    {
     "data": {
      "image/png": "[encoded data removed]",
      "text/plain": [
       "<Figure size 432x288 with 1 Axes>"
      ]
     },
     "metadata": {},
     "output_type": "display_data"
    }
   ],
   "source": [
    "import matplotlib.pyplot as plt\n",
    "plt.plot(history.history['accuracy'])\n",
    "plt.plot(history.history['val_accuracy'])\n",
    "plt.title('model accuracy')\n",
    "plt.ylabel('accuracy')\n",
    "plt.xlabel('epoch')\n",
    "plt.legend(['train', 'test'], loc='upper left')\n",
    "plt.show()\n",
    "# summarize history for loss\n",
    "plt.plot(history.history['loss'])\n",
    "plt.plot(history.history['val_loss'])\n",
    "plt.title('model loss')\n",
    "plt.ylabel('loss')\n",
    "plt.xlabel('epoch')\n",
    "plt.legend(['train', 'test'], loc='upper left')\n",
    "plt.show()"
   ]
  },
  {
   "cell_type": "code",
   "execution_count": null,
   "metadata": {},
   "outputs": [],
   "source": []
  }
 ],
 "metadata": {
  "kernelspec": {
   "display_name": "Python 3",
   "language": "python",
   "name": "python3"
  },
  "language_info": {
   "codemirror_mode": {
    "name": "ipython",
    "version": 3
   },
   "file_extension": ".py",
   "mimetype": "text/x-python",
   "name": "python",
   "nbconvert_exporter": "python",
   "pygments_lexer": "ipython3",
   "version": "3.8.3"
  }
 },
 "nbformat": 4,
 "nbformat_minor": 4
}
