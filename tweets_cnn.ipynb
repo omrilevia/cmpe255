{
  "nbformat": 4,
  "nbformat_minor": 0,
  "metadata": {
    "colab": {
      "name": "tweets-cnn.ipynb",
      "provenance": []
    },
    "kernelspec": {
      "name": "python3",
      "display_name": "Python 3"
    },
    "accelerator": "GPU"
  },
  "cells": [
    {
      "cell_type": "code",
      "metadata": {
        "colab": {
          "base_uri": "https://localhost:8080/"
        },
        "id": "Ut8Mag7zQaVW",
        "outputId": "b59fd864-adf7-4dae-a5c4-053f9fe1b76a"
      },
      "source": [
        "from google.colab import drive\n",
        "drive.mount('/mydrive')"
      ],
      "execution_count": null,
      "outputs": [
        {
          "output_type": "stream",
          "text": [
            "Drive already mounted at /mydrive; to attempt to forcibly remount, call drive.mount(\"/mydrive\", force_remount=True).\n"
          ],
          "name": "stdout"
        }
      ]
    },
    {
      "cell_type": "code",
      "metadata": {
        "id": "JTLAWqwaTLOI"
      },
      "source": [
        "import tensorflow as tf\n",
        "import numpy as np\n",
        "import pandas as pd\n",
        "from sklearn.model_selection import train_test_split\n",
        "from sklearn.metrics import precision_score, recall_score, f1_score\n",
        "import matplotlib.pyplot as plt\n",
        "plt.style.use('ggplot')\n",
        "import seaborn as sns"
      ],
      "execution_count": null,
      "outputs": []
    },
    {
      "cell_type": "code",
      "metadata": {
        "id": "FXn5qLyCTc6F"
      },
      "source": [
        "tweets_df = pd.read_csv('/mydrive/MyDrive/CMPE255/tweets.csv')\n",
        "tweets_df.dropna(inplace=True)"
      ],
      "execution_count": null,
      "outputs": []
    },
    {
      "cell_type": "code",
      "metadata": {
        "colab": {
          "base_uri": "https://localhost:8080/",
          "height": 195
        },
        "id": "fzWybpCNHnyS",
        "outputId": "cee7dec7-b034-4d45-aa66-f00e8895719e"
      },
      "source": [
        "tweets_df.head()"
      ],
      "execution_count": null,
      "outputs": [
        {
          "output_type": "execute_result",
          "data": {
            "text/html": [
              "<div>\n",
              "<style scoped>\n",
              "    .dataframe tbody tr th:only-of-type {\n",
              "        vertical-align: middle;\n",
              "    }\n",
              "\n",
              "    .dataframe tbody tr th {\n",
              "        vertical-align: top;\n",
              "    }\n",
              "\n",
              "    .dataframe thead th {\n",
              "        text-align: right;\n",
              "    }\n",
              "</style>\n",
              "<table border=\"1\" class=\"dataframe\">\n",
              "  <thead>\n",
              "    <tr style=\"text-align: right;\">\n",
              "      <th></th>\n",
              "      <th>content</th>\n",
              "      <th>class</th>\n",
              "    </tr>\n",
              "  </thead>\n",
              "  <tbody>\n",
              "    <tr>\n",
              "      <th>0</th>\n",
              "      <td>@switchfoot http://twitpic.com/2y1zl - Awww, t...</td>\n",
              "      <td>0</td>\n",
              "    </tr>\n",
              "    <tr>\n",
              "      <th>1</th>\n",
              "      <td>is upset that he can't update his Facebook by ...</td>\n",
              "      <td>0</td>\n",
              "    </tr>\n",
              "    <tr>\n",
              "      <th>2</th>\n",
              "      <td>@Kenichan I dived many times for the ball. Man...</td>\n",
              "      <td>0</td>\n",
              "    </tr>\n",
              "    <tr>\n",
              "      <th>3</th>\n",
              "      <td>my whole body feels itchy and like its on fire</td>\n",
              "      <td>0</td>\n",
              "    </tr>\n",
              "    <tr>\n",
              "      <th>4</th>\n",
              "      <td>@nationwideclass no, it's not behaving at all....</td>\n",
              "      <td>0</td>\n",
              "    </tr>\n",
              "  </tbody>\n",
              "</table>\n",
              "</div>"
            ],
            "text/plain": [
              "                                             content  class\n",
              "0  @switchfoot http://twitpic.com/2y1zl - Awww, t...      0\n",
              "1  is upset that he can't update his Facebook by ...      0\n",
              "2  @Kenichan I dived many times for the ball. Man...      0\n",
              "3    my whole body feels itchy and like its on fire       0\n",
              "4  @nationwideclass no, it's not behaving at all....      0"
            ]
          },
          "metadata": {
            "tags": []
          },
          "execution_count": 18
        }
      ]
    },
    {
      "cell_type": "code",
      "metadata": {
        "id": "IpqgQ48-IjUx"
      },
      "source": [
        "from nltk.corpus import stopwords\n",
        "stop = stopwords.words('english')\n",
        "tweets_df['content'] = tweets_df['content'].apply(\n",
        "    lambda x: ' '.join([word for word in x.split() if word not in (stop)]))"
      ],
      "execution_count": null,
      "outputs": []
    },
    {
      "cell_type": "code",
      "metadata": {
        "colab": {
          "base_uri": "https://localhost:8080/",
          "height": 195
        },
        "id": "pJ8e_hIyJX4a",
        "outputId": "cb2c4581-19bd-4d44-eeaa-528bbc052ff0"
      },
      "source": [
        "tweets_df.head()"
      ],
      "execution_count": null,
      "outputs": [
        {
          "output_type": "execute_result",
          "data": {
            "text/html": [
              "<div>\n",
              "<style scoped>\n",
              "    .dataframe tbody tr th:only-of-type {\n",
              "        vertical-align: middle;\n",
              "    }\n",
              "\n",
              "    .dataframe tbody tr th {\n",
              "        vertical-align: top;\n",
              "    }\n",
              "\n",
              "    .dataframe thead th {\n",
              "        text-align: right;\n",
              "    }\n",
              "</style>\n",
              "<table border=\"1\" class=\"dataframe\">\n",
              "  <thead>\n",
              "    <tr style=\"text-align: right;\">\n",
              "      <th></th>\n",
              "      <th>content</th>\n",
              "      <th>class</th>\n",
              "    </tr>\n",
              "  </thead>\n",
              "  <tbody>\n",
              "    <tr>\n",
              "      <th>0</th>\n",
              "      <td>@switchfoot http://twitpic.com/2y1zl - Awww, t...</td>\n",
              "      <td>0</td>\n",
              "    </tr>\n",
              "    <tr>\n",
              "      <th>1</th>\n",
              "      <td>upset can't update Facebook texting it... migh...</td>\n",
              "      <td>0</td>\n",
              "    </tr>\n",
              "    <tr>\n",
              "      <th>2</th>\n",
              "      <td>@Kenichan I dived many times ball. Managed sav...</td>\n",
              "      <td>0</td>\n",
              "    </tr>\n",
              "    <tr>\n",
              "      <th>3</th>\n",
              "      <td>whole body feels itchy like fire</td>\n",
              "      <td>0</td>\n",
              "    </tr>\n",
              "    <tr>\n",
              "      <th>4</th>\n",
              "      <td>@nationwideclass no, behaving all. i'm mad. he...</td>\n",
              "      <td>0</td>\n",
              "    </tr>\n",
              "  </tbody>\n",
              "</table>\n",
              "</div>"
            ],
            "text/plain": [
              "                                             content  class\n",
              "0  @switchfoot http://twitpic.com/2y1zl - Awww, t...      0\n",
              "1  upset can't update Facebook texting it... migh...      0\n",
              "2  @Kenichan I dived many times ball. Managed sav...      0\n",
              "3                   whole body feels itchy like fire      0\n",
              "4  @nationwideclass no, behaving all. i'm mad. he...      0"
            ]
          },
          "metadata": {
            "tags": []
          },
          "execution_count": 20
        }
      ]
    },
    {
      "cell_type": "code",
      "metadata": {
        "colab": {
          "base_uri": "https://localhost:8080/"
        },
        "id": "xODSOGkGPsLY",
        "outputId": "38bba473-3d3a-4381-d23c-7206a1a724f3"
      },
      "source": [
        "tweets_df.content.str.replace('[^a-zA-Z\\s]', '')"
      ],
      "execution_count": null,
      "outputs": [
        {
          "output_type": "execute_result",
          "data": {
            "text/plain": [
              "0          switchfoot httptwitpiccomyzl  Awww thats bumme...\n",
              "1          upset cant update Facebook texting it might cr...\n",
              "2          Kenichan I dived many times ball Managed save ...\n",
              "3                           whole body feels itchy like fire\n",
              "4          nationwideclass no behaving all im mad here I ...\n",
              "                                 ...                        \n",
              "3188993    Atlanta Police searching man wanted rape https...\n",
              "3188994    We REALLY fuckin listen  music submissions Sub...\n",
              "3188995    Thank you Love travel readers Youre great fath...\n",
              "3188996                He never calls back guess im annoying\n",
              "3188997    So racism effectively proven emmyjewel go sit ...\n",
              "Name: content, Length: 3188997, dtype: object"
            ]
          },
          "metadata": {
            "tags": []
          },
          "execution_count": 22
        }
      ]
    },
    {
      "cell_type": "code",
      "metadata": {
        "id": "gWo_VVKzVx0V"
      },
      "source": [
        "tokenizer = tf.keras.preprocessing.text.Tokenizer()\n",
        "tokenizer.fit_on_texts(tweets_df['content'])\n",
        "tweets_df['content'] = tokenizer.texts_to_sequences(tweets_df['content'])"
      ],
      "execution_count": null,
      "outputs": []
    },
    {
      "cell_type": "code",
      "metadata": {
        "colab": {
          "base_uri": "https://localhost:8080/",
          "height": 335
        },
        "id": "3Z2DhW_7XVBt",
        "outputId": "5a384d18-c2d8-4213-85aa-6cd677f5593c"
      },
      "source": [
        "X_lens = [len(x) for x in tweets_df['content'].values]\n",
        "X_lens = np.array(X_lens)\n",
        "sns.distplot(X_lens)"
      ],
      "execution_count": null,
      "outputs": [
        {
          "output_type": "stream",
          "text": [
            "/usr/local/lib/python3.6/dist-packages/seaborn/distributions.py:2551: FutureWarning: `distplot` is a deprecated function and will be removed in a future version. Please adapt your code to use either `displot` (a figure-level function with similar flexibility) or `histplot` (an axes-level function for histograms).\n",
            "  warnings.warn(msg, FutureWarning)\n"
          ],
          "name": "stderr"
        },
        {
          "output_type": "execute_result",
          "data": {
            "text/plain": [
              "<matplotlib.axes._subplots.AxesSubplot at 0x7f2e1d7a4358>"
            ]
          },
          "metadata": {
            "tags": []
          },
          "execution_count": 24
        },
        {
          "output_type": "display_data",
          "data": {
            "image/png": "[encoded data removed]",
            "text/plain": [
              "<Figure size 432x288 with 1 Axes>"
            ]
          },
          "metadata": {
            "tags": []
          }
        }
      ]
    },
    {
      "cell_type": "code",
      "metadata": {
        "colab": {
          "base_uri": "https://localhost:8080/"
        },
        "id": "_q-t9r8YYNvV",
        "outputId": "55744610-843b-4ef5-d947-6728a2b18eaf"
      },
      "source": [
        "mean_tweet_len = np.mean(X_lens)\n",
        "std_tweets = np.std(X_lens)\n",
        "print(mean_tweet_len, std_tweets)"
      ],
      "execution_count": null,
      "outputs": [
        {
          "output_type": "stream",
          "text": [
            "11.059464151267624 5.164829828958415\n"
          ],
          "name": "stdout"
        }
      ]
    },
    {
      "cell_type": "code",
      "metadata": {
        "colab": {
          "base_uri": "https://localhost:8080/"
        },
        "id": "dZruoeDJYReW",
        "outputId": "02bc2b5d-d0cd-4ce4-a260-47361bd420a5"
      },
      "source": [
        "# uniform tweet length to use is mean + 2*std_dev = 11 + 10 = 21\n",
        "MAX_LENGTH = 21\n",
        "np.unique((X_lens>=MAX_LENGTH), return_counts=True)"
      ],
      "execution_count": null,
      "outputs": [
        {
          "output_type": "execute_result",
          "data": {
            "text/plain": [
              "(array([False,  True]), array([3104756,   84241]))"
            ]
          },
          "metadata": {
            "tags": []
          },
          "execution_count": 26
        }
      ]
    },
    {
      "cell_type": "code",
      "metadata": {
        "colab": {
          "base_uri": "https://localhost:8080/"
        },
        "id": "2MJY3PLsZEur",
        "outputId": "9c6a1dcf-fe28-4349-fe8d-62ad784fd2f1"
      },
      "source": [
        "(3104656/(3104756+84241))"
      ],
      "execution_count": null,
      "outputs": [
        {
          "output_type": "execute_result",
          "data": {
            "text/plain": [
              "0.9735524994222321"
            ]
          },
          "metadata": {
            "tags": []
          },
          "execution_count": 27
        }
      ]
    },
    {
      "cell_type": "code",
      "metadata": {
        "id": "JBmbfMq7Zn6I"
      },
      "source": [
        "labels = tweets_df.pop('class')"
      ],
      "execution_count": null,
      "outputs": []
    },
    {
      "cell_type": "code",
      "metadata": {
        "colab": {
          "base_uri": "https://localhost:8080/"
        },
        "id": "qAtaZjjW3t_z",
        "outputId": "05a03427-3690-4a5c-de5d-b44e99287827"
      },
      "source": [
        "labels.head()"
      ],
      "execution_count": null,
      "outputs": [
        {
          "output_type": "execute_result",
          "data": {
            "text/plain": [
              "0    0\n",
              "1    0\n",
              "2    0\n",
              "3    0\n",
              "4    0\n",
              "Name: class, dtype: int64"
            ]
          },
          "metadata": {
            "tags": []
          },
          "execution_count": 29
        }
      ]
    },
    {
      "cell_type": "code",
      "metadata": {
        "id": "SXFisQQao_2C"
      },
      "source": [
        "X_train, X_test, y_train, y_test = train_test_split(tweets_df, labels, test_size=0.2)\n",
        "X_train_content = X_train.pop('content')\n",
        "X_test_content = X_test.pop('content')\n"
      ],
      "execution_count": null,
      "outputs": []
    },
    {
      "cell_type": "code",
      "metadata": {
        "id": "2r49vZfTbIkj"
      },
      "source": [
        "\n",
        "\n",
        "X_train_content = tf.keras.preprocessing.sequence.pad_sequences(X_train,\n",
        "                                                             maxlen=MAX_LENGTH,\n",
        "                                                             dtype='int32',\n",
        "                                                             padding='post',\n",
        "                                                             truncating='post')\n",
        "X_test_content = tf.keras.preprocessing.sequence.pad_sequences(X_test,\n",
        "                                                       maxlen=MAX_LENGTH,\n",
        "                                                       dtype='int32',\n",
        "                                                       padding='post',\n",
        "                                                       truncating='post')"
      ],
      "execution_count": null,
      "outputs": []
    },
    {
      "cell_type": "code",
      "metadata": {
        "colab": {
          "base_uri": "https://localhost:8080/"
        },
        "id": "iXEdU5Xppb_l",
        "outputId": "9cc065d3-e9c6-4665-8eda-ec5e297a8578"
      },
      "source": [
        "from keras import layers\n",
        "from keras.models import Sequential\n",
        "from keras.layers.embeddings import Embedding\n",
        "from keras.layers import Dense, Flatten\n",
        "from keras.layers.convolutional import Conv1D, MaxPooling1D\n",
        "model = Sequential()\n",
        "model.add(Embedding(7000, 32, input_length=MAX_LENGTH))\n",
        "model.add(Conv1D(MAX_LENGTH, 3, padding='same', activation='relu'))\n",
        "model.add(MaxPooling1D())\n",
        "model.add(Flatten())\n",
        "model.add(Dense(250, activation='relu'))\n",
        "model.add(Dense(1, activation='sigmoid'))\n",
        "model.summary()\n",
        "model.compile(optimizer=tf.keras.optimizers.Adam(0.0005),\n",
        "              loss='binary_crossentropy',\n",
        "              metrics=['accuracy'])\n"
      ],
      "execution_count": null,
      "outputs": [
        {
          "output_type": "stream",
          "text": [
            "Model: \"sequential\"\n",
            "_________________________________________________________________\n",
            "Layer (type)                 Output Shape              Param #   \n",
            "=================================================================\n",
            "embedding (Embedding)        (None, 21, 32)            224000    \n",
            "_________________________________________________________________\n",
            "conv1d (Conv1D)              (None, 21, 21)            2037      \n",
            "_________________________________________________________________\n",
            "max_pooling1d (MaxPooling1D) (None, 10, 21)            0         \n",
            "_________________________________________________________________\n",
            "flatten (Flatten)            (None, 210)               0         \n",
            "_________________________________________________________________\n",
            "dense (Dense)                (None, 250)               52750     \n",
            "_________________________________________________________________\n",
            "dense_1 (Dense)              (None, 1)                 251       \n",
            "=================================================================\n",
            "Total params: 279,038\n",
            "Trainable params: 279,038\n",
            "Non-trainable params: 0\n",
            "_________________________________________________________________\n"
          ],
          "name": "stdout"
        }
      ]
    },
    {
      "cell_type": "code",
      "metadata": {
        "colab": {
          "base_uri": "https://localhost:8080/"
        },
        "id": "OwiD7oH2sINE",
        "outputId": "a882363b-141b-48c9-90e3-635ee7f2c343"
      },
      "source": [
        "\n",
        "callback = tf.keras.callbacks.EarlyStopping(monitor='val_accuracy',\n",
        "                                            patience=5,\n",
        "                                            mode='max',\n",
        "                                          restore_best_weights=True)\n",
        "history = model.fit([X_train_content, X_train],\n",
        "                     y_train,\n",
        "                     epochs=100,\n",
        "                     batch_size=128,\n",
        "                     validation_data=(\n",
        "                           [X_test_content, X_test],\n",
        "                            y_test\n",
        "                     ),\n",
        "callbacks=[callback])"
      ],
      "execution_count": null,
      "outputs": [
        {
          "output_type": "stream",
          "text": [
            "Epoch 1/100\n",
            "19929/19932 [============================>.] - ETA: 0s - loss: 0.6932 - accuracy: 0.5012WARNING:tensorflow:Early stopping conditioned on metric `val_acc` which is not available. Available metrics are: loss,accuracy,val_loss,val_accuracy\n",
            "19932/19932 [==============================] - 116s 6ms/step - loss: 0.6932 - accuracy: 0.5012 - val_loss: 0.6931 - val_accuracy: 0.5020\n",
            "Epoch 2/100\n",
            "19927/19932 [============================>.] - ETA: 0s - loss: 0.6932 - accuracy: 0.5014WARNING:tensorflow:Early stopping conditioned on metric `val_acc` which is not available. Available metrics are: loss,accuracy,val_loss,val_accuracy\n",
            "19932/19932 [==============================] - 116s 6ms/step - loss: 0.6932 - accuracy: 0.5014 - val_loss: 0.6931 - val_accuracy: 0.5020\n",
            "Epoch 3/100\n",
            "19923/19932 [============================>.] - ETA: 0s - loss: 0.6932 - accuracy: 0.5008WARNING:tensorflow:Early stopping conditioned on metric `val_acc` which is not available. Available metrics are: loss,accuracy,val_loss,val_accuracy\n",
            "19932/19932 [==============================] - 115s 6ms/step - loss: 0.6932 - accuracy: 0.5008 - val_loss: 0.6931 - val_accuracy: 0.5020\n",
            "Epoch 4/100\n",
            "19929/19932 [============================>.] - ETA: 0s - loss: 0.6932 - accuracy: 0.5011WARNING:tensorflow:Early stopping conditioned on metric `val_acc` which is not available. Available metrics are: loss,accuracy,val_loss,val_accuracy\n",
            "19932/19932 [==============================] - 117s 6ms/step - loss: 0.6932 - accuracy: 0.5011 - val_loss: 0.6931 - val_accuracy: 0.4980\n",
            "Epoch 5/100\n",
            "19925/19932 [============================>.] - ETA: 0s - loss: 0.6932 - accuracy: 0.5010WARNING:tensorflow:Early stopping conditioned on metric `val_acc` which is not available. Available metrics are: loss,accuracy,val_loss,val_accuracy\n",
            "19932/19932 [==============================] - 116s 6ms/step - loss: 0.6932 - accuracy: 0.5010 - val_loss: 0.6931 - val_accuracy: 0.5020\n",
            "Epoch 6/100\n",
            "19924/19932 [============================>.] - ETA: 0s - loss: 0.6932 - accuracy: 0.5011WARNING:tensorflow:Early stopping conditioned on metric `val_acc` which is not available. Available metrics are: loss,accuracy,val_loss,val_accuracy\n",
            "19932/19932 [==============================] - 117s 6ms/step - loss: 0.6932 - accuracy: 0.5011 - val_loss: 0.6931 - val_accuracy: 0.5020\n",
            "Epoch 7/100\n",
            "19929/19932 [============================>.] - ETA: 0s - loss: 0.6932 - accuracy: 0.5012WARNING:tensorflow:Early stopping conditioned on metric `val_acc` which is not available. Available metrics are: loss,accuracy,val_loss,val_accuracy\n",
            "19932/19932 [==============================] - 118s 6ms/step - loss: 0.6932 - accuracy: 0.5012 - val_loss: 0.6931 - val_accuracy: 0.5020\n",
            "Epoch 8/100\n",
            "19932/19932 [==============================] - ETA: 0s - loss: 0.6932 - accuracy: 0.5012WARNING:tensorflow:Early stopping conditioned on metric `val_acc` which is not available. Available metrics are: loss,accuracy,val_loss,val_accuracy\n",
            "19932/19932 [==============================] - 115s 6ms/step - loss: 0.6932 - accuracy: 0.5012 - val_loss: 0.6931 - val_accuracy: 0.4980\n",
            "Epoch 9/100\n",
            "19924/19932 [============================>.] - ETA: 0s - loss: 0.6932 - accuracy: 0.5012WARNING:tensorflow:Early stopping conditioned on metric `val_acc` which is not available. Available metrics are: loss,accuracy,val_loss,val_accuracy\n",
            "19932/19932 [==============================] - 115s 6ms/step - loss: 0.6932 - accuracy: 0.5012 - val_loss: 0.6931 - val_accuracy: 0.5020\n",
            "Epoch 10/100\n",
            "19928/19932 [============================>.] - ETA: 0s - loss: 0.6932 - accuracy: 0.5012WARNING:tensorflow:Early stopping conditioned on metric `val_acc` which is not available. Available metrics are: loss,accuracy,val_loss,val_accuracy\n",
            "19932/19932 [==============================] - 115s 6ms/step - loss: 0.6932 - accuracy: 0.5012 - val_loss: 0.6931 - val_accuracy: 0.5020\n",
            "Epoch 11/100\n",
            "19925/19932 [============================>.] - ETA: 0s - loss: 0.6932 - accuracy: 0.5013WARNING:tensorflow:Early stopping conditioned on metric `val_acc` which is not available. Available metrics are: loss,accuracy,val_loss,val_accuracy\n",
            "19932/19932 [==============================] - 115s 6ms/step - loss: 0.6932 - accuracy: 0.5013 - val_loss: 0.6932 - val_accuracy: 0.4980\n",
            "Epoch 12/100\n",
            "19923/19932 [============================>.] - ETA: 0s - loss: 0.6932 - accuracy: 0.5011WARNING:tensorflow:Early stopping conditioned on metric `val_acc` which is not available. Available metrics are: loss,accuracy,val_loss,val_accuracy\n",
            "19932/19932 [==============================] - 115s 6ms/step - loss: 0.6932 - accuracy: 0.5011 - val_loss: 0.6932 - val_accuracy: 0.5020\n",
            "Epoch 13/100\n",
            "19926/19932 [============================>.] - ETA: 0s - loss: 0.6932 - accuracy: 0.5011WARNING:tensorflow:Early stopping conditioned on metric `val_acc` which is not available. Available metrics are: loss,accuracy,val_loss,val_accuracy\n",
            "19932/19932 [==============================] - 116s 6ms/step - loss: 0.6932 - accuracy: 0.5011 - val_loss: 0.6931 - val_accuracy: 0.4980\n",
            "Epoch 14/100\n",
            "19928/19932 [============================>.] - ETA: 0s - loss: 0.6932 - accuracy: 0.5010WARNING:tensorflow:Early stopping conditioned on metric `val_acc` which is not available. Available metrics are: loss,accuracy,val_loss,val_accuracy\n",
            "19932/19932 [==============================] - 114s 6ms/step - loss: 0.6932 - accuracy: 0.5010 - val_loss: 0.6931 - val_accuracy: 0.5020\n",
            "Epoch 15/100\n",
            "19929/19932 [============================>.] - ETA: 0s - loss: 0.6932 - accuracy: 0.5012WARNING:tensorflow:Early stopping conditioned on metric `val_acc` which is not available. Available metrics are: loss,accuracy,val_loss,val_accuracy\n",
            "19932/19932 [==============================] - 116s 6ms/step - loss: 0.6932 - accuracy: 0.5012 - val_loss: 0.6931 - val_accuracy: 0.5020\n",
            "Epoch 16/100\n",
            "19931/19932 [============================>.] - ETA: 0s - loss: 0.6932 - accuracy: 0.5013WARNING:tensorflow:Early stopping conditioned on metric `val_acc` which is not available. Available metrics are: loss,accuracy,val_loss,val_accuracy\n",
            "19932/19932 [==============================] - 116s 6ms/step - loss: 0.6932 - accuracy: 0.5013 - val_loss: 0.6932 - val_accuracy: 0.4980\n",
            "Epoch 17/100\n",
            "19931/19932 [============================>.] - ETA: 0s - loss: 0.6932 - accuracy: 0.5010WARNING:tensorflow:Early stopping conditioned on metric `val_acc` which is not available. Available metrics are: loss,accuracy,val_loss,val_accuracy\n",
            "19932/19932 [==============================] - 116s 6ms/step - loss: 0.6932 - accuracy: 0.5010 - val_loss: 0.6931 - val_accuracy: 0.5020\n",
            "Epoch 18/100\n",
            "19930/19932 [============================>.] - ETA: 0s - loss: 0.6932 - accuracy: 0.5011WARNING:tensorflow:Early stopping conditioned on metric `val_acc` which is not available. Available metrics are: loss,accuracy,val_loss,val_accuracy\n",
            "19932/19932 [==============================] - 116s 6ms/step - loss: 0.6932 - accuracy: 0.5011 - val_loss: 0.6931 - val_accuracy: 0.5020\n",
            "Epoch 19/100\n",
            "19927/19932 [============================>.] - ETA: 0s - loss: 0.6932 - accuracy: 0.5011WARNING:tensorflow:Early stopping conditioned on metric `val_acc` which is not available. Available metrics are: loss,accuracy,val_loss,val_accuracy\n",
            "19932/19932 [==============================] - 113s 6ms/step - loss: 0.6932 - accuracy: 0.5011 - val_loss: 0.6931 - val_accuracy: 0.5020\n",
            "Epoch 20/100\n",
            "19929/19932 [============================>.] - ETA: 0s - loss: 0.6932 - accuracy: 0.5012WARNING:tensorflow:Early stopping conditioned on metric `val_acc` which is not available. Available metrics are: loss,accuracy,val_loss,val_accuracy\n",
            "19932/19932 [==============================] - 114s 6ms/step - loss: 0.6932 - accuracy: 0.5011 - val_loss: 0.6931 - val_accuracy: 0.5020\n",
            "Epoch 21/100\n",
            "19926/19932 [============================>.] - ETA: 0s - loss: 0.6932 - accuracy: 0.5009WARNING:tensorflow:Early stopping conditioned on metric `val_acc` which is not available. Available metrics are: loss,accuracy,val_loss,val_accuracy\n",
            "19932/19932 [==============================] - 116s 6ms/step - loss: 0.6932 - accuracy: 0.5009 - val_loss: 0.6932 - val_accuracy: 0.4980\n",
            "Epoch 22/100\n",
            "19930/19932 [============================>.] - ETA: 0s - loss: 0.6932 - accuracy: 0.5010WARNING:tensorflow:Early stopping conditioned on metric `val_acc` which is not available. Available metrics are: loss,accuracy,val_loss,val_accuracy\n",
            "19932/19932 [==============================] - 115s 6ms/step - loss: 0.6932 - accuracy: 0.5010 - val_loss: 0.6931 - val_accuracy: 0.4980\n",
            "Epoch 23/100\n",
            "19928/19932 [============================>.] - ETA: 0s - loss: 0.6932 - accuracy: 0.5010WARNING:tensorflow:Early stopping conditioned on metric `val_acc` which is not available. Available metrics are: loss,accuracy,val_loss,val_accuracy\n",
            "19932/19932 [==============================] - 117s 6ms/step - loss: 0.6932 - accuracy: 0.5010 - val_loss: 0.6932 - val_accuracy: 0.5020\n",
            "Epoch 24/100\n",
            "19931/19932 [============================>.] - ETA: 0s - loss: 0.6932 - accuracy: 0.5010WARNING:tensorflow:Early stopping conditioned on metric `val_acc` which is not available. Available metrics are: loss,accuracy,val_loss,val_accuracy\n",
            "19932/19932 [==============================] - 115s 6ms/step - loss: 0.6932 - accuracy: 0.5010 - val_loss: 0.6931 - val_accuracy: 0.5020\n",
            "Epoch 25/100\n",
            "19929/19932 [============================>.] - ETA: 0s - loss: 0.6932 - accuracy: 0.5014WARNING:tensorflow:Early stopping conditioned on metric `val_acc` which is not available. Available metrics are: loss,accuracy,val_loss,val_accuracy\n",
            "19932/19932 [==============================] - 117s 6ms/step - loss: 0.6932 - accuracy: 0.5014 - val_loss: 0.6931 - val_accuracy: 0.5020\n",
            "Epoch 26/100\n",
            "19925/19932 [============================>.] - ETA: 0s - loss: 0.6932 - accuracy: 0.5016WARNING:tensorflow:Early stopping conditioned on metric `val_acc` which is not available. Available metrics are: loss,accuracy,val_loss,val_accuracy\n",
            "19932/19932 [==============================] - 117s 6ms/step - loss: 0.6932 - accuracy: 0.5016 - val_loss: 0.6931 - val_accuracy: 0.5020\n",
            "Epoch 27/100\n",
            "19924/19932 [============================>.] - ETA: 0s - loss: 0.6932 - accuracy: 0.5012WARNING:tensorflow:Early stopping conditioned on metric `val_acc` which is not available. Available metrics are: loss,accuracy,val_loss,val_accuracy\n",
            "19932/19932 [==============================] - 117s 6ms/step - loss: 0.6932 - accuracy: 0.5012 - val_loss: 0.6932 - val_accuracy: 0.5020\n",
            "Epoch 28/100\n",
            "19925/19932 [============================>.] - ETA: 0s - loss: 0.6932 - accuracy: 0.5013WARNING:tensorflow:Early stopping conditioned on metric `val_acc` which is not available. Available metrics are: loss,accuracy,val_loss,val_accuracy\n",
            "19932/19932 [==============================] - 117s 6ms/step - loss: 0.6932 - accuracy: 0.5013 - val_loss: 0.6931 - val_accuracy: 0.5020\n",
            "Epoch 29/100\n",
            "10076/19932 [==============>...............] - ETA: 54s - loss: 0.6932 - accuracy: 0.5001Buffered data was truncated after reaching the output size limit."
          ],
          "name": "stdout"
        }
      ]
    },
    {
      "cell_type": "code",
      "metadata": {
        "colab": {
          "base_uri": "https://localhost:8080/"
        },
        "id": "EN52DFfz1LRS",
        "outputId": "c4942097-791a-48d2-c577-bcb8e6ea0856"
      },
      "source": [
        "preds=model.predict([X_test_content, X_test])\n",
        "model.evaluate([X_test_content, X_test], y_test)"
      ],
      "execution_count": null,
      "outputs": [
        {
          "output_type": "stream",
          "text": [
            "19932/19932 [==============================] - 40s 2ms/step - loss: 0.6932 - accuracy: 0.5020\n"
          ],
          "name": "stdout"
        },
        {
          "output_type": "execute_result",
          "data": {
            "text/plain": [
              "[0.6931861639022827, 0.5020382404327393]"
            ]
          },
          "metadata": {
            "tags": []
          },
          "execution_count": 34
        }
      ]
    }
  ]
}